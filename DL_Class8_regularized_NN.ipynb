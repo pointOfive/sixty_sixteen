{
 "cells": [
  {
   "cell_type": "markdown",
   "metadata": {},
   "source": [
    "- to do: update data set to require shorter run time?"
   ]
  },
  {
   "cell_type": "markdown",
   "metadata": {},
   "source": [
    "# Regularizing NN with TF\n",
    "\n",
    "The way I got myself set up and working is this notebook was to start with [this tensorflow tutorial](https://www.tensorflow.org/tutorials/customization/custom_training_walkthrough):\n",
    "- Until you're super comfortable and fluent in TF (or whatever language you're working in) start from working code and re-craft it to your own ends!"
   ]
  },
  {
   "cell_type": "markdown",
   "metadata": {},
   "source": [
    "# Standard Imports"
   ]
  },
  {
   "cell_type": "code",
   "execution_count": 1,
   "metadata": {},
   "outputs": [],
   "source": [
    "import tensorflow as tf\n",
    "import matplotlib.pyplot as plt\n",
    "import numpy as np\n",
    "import pandas as pd\n"
   ]
  },
  {
   "cell_type": "markdown",
   "metadata": {},
   "source": [
    "# Data\n",
    "\n",
    "- Cool data set functionality won't reload if you've already loaded the data!"
   ]
  },
  {
   "cell_type": "code",
   "execution_count": 2,
   "metadata": {},
   "outputs": [],
   "source": [
    "\n",
    "train_dataset_url = \"https://storage.googleapis.com/download.tensorflow.org/data/iris_training.csv\"\n",
    "path = \"/Users/gck8gd/Documents/courses/SYS_6016_DeepLearning/L6/\"\n",
    "file = \"iris_training.csv\"\n",
    "train_dataset_fp = tf.keras.utils.get_file(fname=path+file, origin=train_dataset_url)\n"
   ]
  },
  {
   "cell_type": "markdown",
   "metadata": {},
   "source": [
    "- Some nice leveraging of command line for quick \"data management\" type stuff"
   ]
  },
  {
   "cell_type": "code",
   "execution_count": 3,
   "metadata": {},
   "outputs": [
    {
     "name": "stdout",
     "output_type": "stream",
     "text": [
      "120,4,setosa,versicolor,virginica\r\n",
      "6.4,2.8,5.6,2.2,2\r\n",
      "5.0,2.3,3.3,1.0,1\r\n",
      "4.9,2.5,4.5,1.7,2\r\n",
      "4.9,3.1,1.5,0.1,0\r\n"
     ]
    }
   ],
   "source": [
    "! head -n5 {train_dataset_fp}\n"
   ]
  },
  {
   "cell_type": "code",
   "execution_count": 4,
   "metadata": {},
   "outputs": [
    {
     "name": "stdout",
     "output_type": "stream",
     "text": [
      "     121 /Users/gck8gd/Documents/courses/SYS_6016_DeepLearning/L6/iris_training.csv\r\n"
     ]
    }
   ],
   "source": [
    "! wc -l {train_dataset_fp}\n"
   ]
  },
  {
   "cell_type": "markdown",
   "metadata": {},
   "source": [
    "- We'll spend more time on data sets in TF soon; but, for now, suffice to say\n",
    "    - these things are really cool and great!"
   ]
  },
  {
   "cell_type": "code",
   "execution_count": 5,
   "metadata": {},
   "outputs": [],
   "source": [
    "# https://www.tensorflow.org/datasets/catalog/iris\n",
    "column_names = ['sepal_length', 'sepal_width', 'petal_length', 'petal_width', 'species']\n",
    "feature_names = column_names[:-1]\n",
    "label_name = column_names[-1]\n",
    "\n",
    "# we're not making use of the real power of\n",
    "# tf data set functionality by doing this\n",
    "batch_size = 120\n",
    "\n",
    "train_dataset = tf.data.experimental.make_csv_dataset(\n",
    "    train_dataset_fp,\n",
    "    batch_size,\n",
    "    column_names=column_names,\n",
    "    label_name=label_name,\n",
    "    num_epochs=1)\n"
   ]
  },
  {
   "cell_type": "code",
   "execution_count": 6,
   "metadata": {},
   "outputs": [
    {
     "data": {
      "text/plain": [
       "<PrefetchDataset shapes: (OrderedDict([(sepal_length, (None,)), (sepal_width, (None,)), (petal_length, (None,)), (petal_width, (None,))]), (None,)), types: (OrderedDict([(sepal_length, tf.float32), (sepal_width, tf.float32), (petal_length, tf.float32), (petal_width, tf.float32)]), tf.int32)>"
      ]
     },
     "execution_count": 6,
     "metadata": {},
     "output_type": "execute_result"
    }
   ],
   "source": [
    "train_dataset"
   ]
  },
  {
   "cell_type": "code",
   "execution_count": 11,
   "metadata": {},
   "outputs": [
    {
     "data": {
      "image/png": "[encoded data removed]",
      "text/plain": [
       "<Figure size 432x288 with 1 Axes>"
      ]
     },
     "metadata": {
      "needs_background": "light"
     },
     "output_type": "display_data"
    }
   ],
   "source": [
    "# again, lots of this code is just lifted straight from\n",
    "# https://www.tensorflow.org/tutorials/customization/custom_training_walkthrough\n",
    "\n",
    "# if you've not yet come across the joys of this `next(iter( ))`\n",
    "# thing, here it is for the first (but probably not last) time!\n",
    "features, labels = next(iter(train_dataset))\n",
    "\n",
    "plt.scatter(features['petal_length'],\n",
    "            features['sepal_length'],\n",
    "            c=labels,\n",
    "            cmap='viridis')\n",
    "\n",
    "plt.xlabel(\"Petal length\")\n",
    "plt.ylabel(\"Sepal length\")\n",
    "plt.show()\n",
    "# but of course, you're likely quite familiar with this plot"
   ]
  },
  {
   "cell_type": "markdown",
   "metadata": {},
   "source": [
    "- Note again how organized and structured (and cool!) this TF data set thing is with the data:"
   ]
  },
  {
   "cell_type": "code",
   "execution_count": 12,
   "metadata": {},
   "outputs": [
    {
     "data": {
      "text/plain": [
       "OrderedDict([('sepal_length',\n",
       "              <tf.Tensor: shape=(120,), dtype=float32, numpy=\n",
       "              array([5.4, 7.9, 6.2, 6.4, 6.3, 5.9, 6.1, 4.8, 5. , 5.2, 5.5, 7.7, 5. ,\n",
       "                     6. , 5.8, 6.5, 4.9, 5.7, 7.6, 7.4, 5.6, 6.9, 7.7, 5. , 5. , 4.6,\n",
       "                     5.6, 7.7, 5.4, 5.2, 6.7, 5.8, 6.3, 4.6, 5.5, 5.1, 4.9, 6.6, 6. ,\n",
       "                     4.9, 6.9, 6.5, 6.3, 6.2, 6.7, 5.1, 5.6, 6.1, 5.1, 6.1, 7.2, 6.3,\n",
       "                     5. , 5. , 5.7, 6.8, 5.7, 6.4, 6.6, 5. , 6. , 6.5, 6.9, 5.1, 5.1,\n",
       "                     6.4, 5.4, 6.8, 5.5, 7.2, 4.9, 4.6, 6.7, 6.4, 5.8, 5.1, 5.7, 6.3,\n",
       "                     5.9, 4.7, 6.1, 4.4, 4.8, 6.3, 5.7, 4.4, 5.3, 5.4, 6.8, 5. , 6.5,\n",
       "                     6.5, 6.4, 4.6, 5.5, 4.7, 7. , 7.2, 6.1, 5.8, 5.4, 5. , 4.9, 7.7,\n",
       "                     6.4, 5.7, 7.3, 4.4, 6.7, 5.2, 5. , 4.5, 5.8, 4.9, 5.8, 6. , 4.8,\n",
       "                     6.2, 4.8, 6.7], dtype=float32)>),\n",
       "             ('sepal_width',\n",
       "              <tf.Tensor: shape=(120,), dtype=float32, numpy=\n",
       "              array([3.9, 3.8, 2.2, 3.2, 2.7, 3. , 2.9, 3. , 2. , 2.7, 2.4, 2.8, 3.3,\n",
       "                     3. , 2.7, 3.2, 3.1, 2.8, 3. , 2.8, 2.9, 3.2, 3. , 2.3, 3.2, 3.1,\n",
       "                     2.7, 2.6, 3.9, 3.4, 3.3, 4. , 2.3, 3.4, 3.5, 3.8, 3.1, 3. , 2.9,\n",
       "                     3.1, 3.1, 3. , 2.5, 2.8, 3. , 3.8, 2.5, 2.8, 3.7, 2.6, 3. , 3.4,\n",
       "                     3.4, 3.4, 2.8, 2.8, 2.9, 2.8, 2.9, 3. , 2.7, 2.8, 3.1, 3.5, 3.8,\n",
       "                     3.1, 3. , 3.2, 2.6, 3.6, 2.4, 3.2, 3. , 3.2, 2.8, 2.5, 3. , 3.3,\n",
       "                     3.2, 3.2, 3. , 3.2, 3.4, 3.3, 4.4, 2.9, 3.7, 3.4, 3. , 3.5, 3. ,\n",
       "                     3. , 2.7, 3.6, 2.4, 3.2, 3.2, 3.2, 2.8, 2.6, 3.7, 3.5, 2.5, 3.8,\n",
       "                     2.8, 3.8, 2.9, 3. , 3.1, 3.5, 3.6, 2.3, 2.7, 3. , 2.7, 2.2, 3. ,\n",
       "                     3.4, 3.1, 3.1], dtype=float32)>),\n",
       "             ('petal_length',\n",
       "              <tf.Tensor: shape=(120,), dtype=float32, numpy=\n",
       "              array([1.7, 6.4, 4.5, 4.5, 4.9, 5.1, 4.7, 1.4, 3.5, 3.9, 3.8, 6.7, 1.4,\n",
       "                     4.8, 5.1, 5.1, 1.5, 4.5, 6.6, 6.1, 3.6, 5.7, 6.1, 3.3, 1.2, 1.5,\n",
       "                     4.2, 6.9, 1.3, 1.4, 5.7, 1.2, 4.4, 1.4, 1.3, 1.5, 1.5, 4.4, 4.5,\n",
       "                     1.5, 4.9, 5.5, 5. , 4.8, 5. , 1.9, 3.9, 4. , 1.5, 5.6, 5.8, 5.6,\n",
       "                     1.6, 1.5, 4.1, 4.8, 4.2, 5.6, 4.6, 1.6, 5.1, 4.6, 5.1, 1.4, 1.6,\n",
       "                     5.5, 4.5, 5.9, 4.4, 6.1, 3.3, 1.4, 5.2, 5.3, 5.1, 3. , 4.2, 6. ,\n",
       "                     4.8, 1.3, 4.9, 1.3, 1.6, 4.7, 1.5, 1.4, 1.5, 1.5, 5.5, 1.3, 5.8,\n",
       "                     5.2, 5.3, 1. , 3.7, 1.6, 4.7, 6. , 4.7, 4. , 1.5, 1.6, 4.5, 6.7,\n",
       "                     5.6, 1.7, 6.3, 1.3, 4.4, 1.5, 1.4, 1.3, 4.1, 1.4, 5.1, 5. , 1.4,\n",
       "                     5.4, 1.6, 5.6], dtype=float32)>),\n",
       "             ('petal_width',\n",
       "              <tf.Tensor: shape=(120,), dtype=float32, numpy=\n",
       "              array([0.4, 2. , 1.5, 1.5, 1.8, 1.8, 1.4, 0.3, 1. , 1.4, 1.1, 2. , 0.2,\n",
       "                     1.8, 1.9, 2. , 0.1, 1.3, 2.1, 1.9, 1.3, 2.3, 2.3, 1. , 0.2, 0.2,\n",
       "                     1.3, 2.3, 0.4, 0.2, 2.1, 0.2, 1.3, 0.3, 0.2, 0.3, 0.1, 1.4, 1.5,\n",
       "                     0.1, 1.5, 1.8, 1.9, 1.8, 1.7, 0.4, 1.1, 1.3, 0.4, 1.4, 1.6, 2.4,\n",
       "                     0.4, 0.2, 1.3, 1.4, 1.3, 2.2, 1.3, 0.2, 1.6, 1.5, 2.3, 0.3, 0.2,\n",
       "                     1.8, 1.5, 2.3, 1.2, 2.5, 1. , 0.2, 2.3, 2.3, 2.4, 1.1, 1.2, 2.5,\n",
       "                     1.8, 0.2, 1.8, 0.2, 0.2, 1.6, 0.4, 0.2, 0.2, 0.4, 2.1, 0.3, 2.2,\n",
       "                     2. , 1.9, 0.2, 1. , 0.2, 1.4, 1.8, 1.2, 1.2, 0.2, 0.6, 1.7, 2.2,\n",
       "                     2.1, 0.3, 1.8, 0.2, 1.4, 0.2, 0.2, 0.3, 1. , 0.2, 1.9, 1.5, 0.1,\n",
       "                     2.3, 0.2, 2.4], dtype=float32)>)])"
      ]
     },
     "execution_count": 12,
     "metadata": {},
     "output_type": "execute_result"
    }
   ],
   "source": [
    "features\n",
    "# labels\n"
   ]
  },
  {
   "cell_type": "markdown",
   "metadata": {},
   "source": [
    "- However...\n",
    "\n",
    "  ML (and DL) just want that matrix `X`...\n",
    "  \n",
    "  so to feed this into a keras model, we'll need to use that structure"
   ]
  },
  {
   "cell_type": "markdown",
   "metadata": {},
   "source": [
    "# Minibatch Data"
   ]
  },
  {
   "cell_type": "code",
   "execution_count": null,
   "metadata": {},
   "outputs": [],
   "source": []
  },
  {
   "cell_type": "code",
   "execution_count": 13,
   "metadata": {
    "scrolled": true
   },
   "outputs": [
    {
     "data": {
      "text/plain": [
       "(<tf.Tensor: shape=(120, 4), dtype=float32, numpy=\n",
       " array([[5.4, 3.9, 1.7, 0.4],\n",
       "        [7.9, 3.8, 6.4, 2. ],\n",
       "        [6.2, 2.2, 4.5, 1.5],\n",
       "        [6.4, 3.2, 4.5, 1.5],\n",
       "        [6.3, 2.7, 4.9, 1.8],\n",
       "        [5.9, 3. , 5.1, 1.8],\n",
       "        [6.1, 2.9, 4.7, 1.4],\n",
       "        [4.8, 3. , 1.4, 0.3],\n",
       "        [5. , 2. , 3.5, 1. ],\n",
       "        [5.2, 2.7, 3.9, 1.4],\n",
       "        [5.5, 2.4, 3.8, 1.1],\n",
       "        [7.7, 2.8, 6.7, 2. ],\n",
       "        [5. , 3.3, 1.4, 0.2],\n",
       "        [6. , 3. , 4.8, 1.8],\n",
       "        [5.8, 2.7, 5.1, 1.9],\n",
       "        [6.5, 3.2, 5.1, 2. ],\n",
       "        [4.9, 3.1, 1.5, 0.1],\n",
       "        [5.7, 2.8, 4.5, 1.3],\n",
       "        [7.6, 3. , 6.6, 2.1],\n",
       "        [7.4, 2.8, 6.1, 1.9],\n",
       "        [5.6, 2.9, 3.6, 1.3],\n",
       "        [6.9, 3.2, 5.7, 2.3],\n",
       "        [7.7, 3. , 6.1, 2.3],\n",
       "        [5. , 2.3, 3.3, 1. ],\n",
       "        [5. , 3.2, 1.2, 0.2],\n",
       "        [4.6, 3.1, 1.5, 0.2],\n",
       "        [5.6, 2.7, 4.2, 1.3],\n",
       "        [7.7, 2.6, 6.9, 2.3],\n",
       "        [5.4, 3.9, 1.3, 0.4],\n",
       "        [5.2, 3.4, 1.4, 0.2],\n",
       "        [6.7, 3.3, 5.7, 2.1],\n",
       "        [5.8, 4. , 1.2, 0.2],\n",
       "        [6.3, 2.3, 4.4, 1.3],\n",
       "        [4.6, 3.4, 1.4, 0.3],\n",
       "        [5.5, 3.5, 1.3, 0.2],\n",
       "        [5.1, 3.8, 1.5, 0.3],\n",
       "        [4.9, 3.1, 1.5, 0.1],\n",
       "        [6.6, 3. , 4.4, 1.4],\n",
       "        [6. , 2.9, 4.5, 1.5],\n",
       "        [4.9, 3.1, 1.5, 0.1],\n",
       "        [6.9, 3.1, 4.9, 1.5],\n",
       "        [6.5, 3. , 5.5, 1.8],\n",
       "        [6.3, 2.5, 5. , 1.9],\n",
       "        [6.2, 2.8, 4.8, 1.8],\n",
       "        [6.7, 3. , 5. , 1.7],\n",
       "        [5.1, 3.8, 1.9, 0.4],\n",
       "        [5.6, 2.5, 3.9, 1.1],\n",
       "        [6.1, 2.8, 4. , 1.3],\n",
       "        [5.1, 3.7, 1.5, 0.4],\n",
       "        [6.1, 2.6, 5.6, 1.4],\n",
       "        [7.2, 3. , 5.8, 1.6],\n",
       "        [6.3, 3.4, 5.6, 2.4],\n",
       "        [5. , 3.4, 1.6, 0.4],\n",
       "        [5. , 3.4, 1.5, 0.2],\n",
       "        [5.7, 2.8, 4.1, 1.3],\n",
       "        [6.8, 2.8, 4.8, 1.4],\n",
       "        [5.7, 2.9, 4.2, 1.3],\n",
       "        [6.4, 2.8, 5.6, 2.2],\n",
       "        [6.6, 2.9, 4.6, 1.3],\n",
       "        [5. , 3. , 1.6, 0.2],\n",
       "        [6. , 2.7, 5.1, 1.6],\n",
       "        [6.5, 2.8, 4.6, 1.5],\n",
       "        [6.9, 3.1, 5.1, 2.3],\n",
       "        [5.1, 3.5, 1.4, 0.3],\n",
       "        [5.1, 3.8, 1.6, 0.2],\n",
       "        [6.4, 3.1, 5.5, 1.8],\n",
       "        [5.4, 3. , 4.5, 1.5],\n",
       "        [6.8, 3.2, 5.9, 2.3],\n",
       "        [5.5, 2.6, 4.4, 1.2],\n",
       "        [7.2, 3.6, 6.1, 2.5],\n",
       "        [4.9, 2.4, 3.3, 1. ],\n",
       "        [4.6, 3.2, 1.4, 0.2],\n",
       "        [6.7, 3. , 5.2, 2.3],\n",
       "        [6.4, 3.2, 5.3, 2.3],\n",
       "        [5.8, 2.8, 5.1, 2.4],\n",
       "        [5.1, 2.5, 3. , 1.1],\n",
       "        [5.7, 3. , 4.2, 1.2],\n",
       "        [6.3, 3.3, 6. , 2.5],\n",
       "        [5.9, 3.2, 4.8, 1.8],\n",
       "        [4.7, 3.2, 1.3, 0.2],\n",
       "        [6.1, 3. , 4.9, 1.8],\n",
       "        [4.4, 3.2, 1.3, 0.2],\n",
       "        [4.8, 3.4, 1.6, 0.2],\n",
       "        [6.3, 3.3, 4.7, 1.6],\n",
       "        [5.7, 4.4, 1.5, 0.4],\n",
       "        [4.4, 2.9, 1.4, 0.2],\n",
       "        [5.3, 3.7, 1.5, 0.2],\n",
       "        [5.4, 3.4, 1.5, 0.4],\n",
       "        [6.8, 3. , 5.5, 2.1],\n",
       "        [5. , 3.5, 1.3, 0.3],\n",
       "        [6.5, 3. , 5.8, 2.2],\n",
       "        [6.5, 3. , 5.2, 2. ],\n",
       "        [6.4, 2.7, 5.3, 1.9],\n",
       "        [4.6, 3.6, 1. , 0.2],\n",
       "        [5.5, 2.4, 3.7, 1. ],\n",
       "        [4.7, 3.2, 1.6, 0.2],\n",
       "        [7. , 3.2, 4.7, 1.4],\n",
       "        [7.2, 3.2, 6. , 1.8],\n",
       "        [6.1, 2.8, 4.7, 1.2],\n",
       "        [5.8, 2.6, 4. , 1.2],\n",
       "        [5.4, 3.7, 1.5, 0.2],\n",
       "        [5. , 3.5, 1.6, 0.6],\n",
       "        [4.9, 2.5, 4.5, 1.7],\n",
       "        [7.7, 3.8, 6.7, 2.2],\n",
       "        [6.4, 2.8, 5.6, 2.1],\n",
       "        [5.7, 3.8, 1.7, 0.3],\n",
       "        [7.3, 2.9, 6.3, 1.8],\n",
       "        [4.4, 3. , 1.3, 0.2],\n",
       "        [6.7, 3.1, 4.4, 1.4],\n",
       "        [5.2, 3.5, 1.5, 0.2],\n",
       "        [5. , 3.6, 1.4, 0.2],\n",
       "        [4.5, 2.3, 1.3, 0.3],\n",
       "        [5.8, 2.7, 4.1, 1. ],\n",
       "        [4.9, 3. , 1.4, 0.2],\n",
       "        [5.8, 2.7, 5.1, 1.9],\n",
       "        [6. , 2.2, 5. , 1.5],\n",
       "        [4.8, 3. , 1.4, 0.1],\n",
       "        [6.2, 3.4, 5.4, 2.3],\n",
       "        [4.8, 3.1, 1.6, 0.2],\n",
       "        [6.7, 3.1, 5.6, 2.4]], dtype=float32)>,\n",
       " <tf.Tensor: shape=(120,), dtype=int32, numpy=\n",
       " array([0, 2, 1, 1, 2, 2, 1, 0, 1, 1, 1, 2, 0, 2, 2, 2, 0, 1, 2, 2, 1, 2,\n",
       "        2, 1, 0, 0, 1, 2, 0, 0, 2, 0, 1, 0, 0, 0, 0, 1, 1, 0, 1, 2, 2, 2,\n",
       "        1, 0, 1, 1, 0, 2, 2, 2, 0, 0, 1, 1, 1, 2, 1, 0, 1, 1, 2, 0, 0, 2,\n",
       "        1, 2, 1, 2, 1, 0, 2, 2, 2, 1, 1, 2, 1, 0, 2, 0, 0, 1, 0, 0, 0, 0,\n",
       "        2, 0, 2, 2, 2, 0, 1, 0, 1, 2, 1, 1, 0, 0, 2, 2, 2, 0, 2, 0, 1, 0,\n",
       "        0, 0, 1, 0, 2, 2, 0, 2, 0, 2], dtype=int32)>)"
      ]
     },
     "execution_count": 13,
     "metadata": {},
     "output_type": "execute_result"
    }
   ],
   "source": [
    "# again, I'm just lifting this from\n",
    "# https://www.tensorflow.org/tutorials/customization/custom_training_walkthrough\n",
    "\n",
    "def pack_features_vector(features, labels):\n",
    "    \n",
    "    \"\"\"Pack the features into a single array.\"\"\"\n",
    "    \n",
    "    features = tf.stack(list(features.values()), axis=1)\n",
    "    return features, labels\n",
    "\n",
    "pack_features_vector(features, labels)"
   ]
  },
  {
   "cell_type": "code",
   "execution_count": 15,
   "metadata": {},
   "outputs": [
    {
     "data": {
      "text/plain": [
       "<PrefetchDataset shapes: (OrderedDict([(sepal_length, (None,)), (sepal_width, (None,)), (petal_length, (None,)), (petal_width, (None,))]), (None,)), types: (OrderedDict([(sepal_length, tf.float32), (sepal_width, tf.float32), (petal_length, tf.float32), (petal_width, tf.float32)]), tf.int32)>"
      ]
     },
     "execution_count": 15,
     "metadata": {},
     "output_type": "execute_result"
    }
   ],
   "source": [
    "train_dataset"
   ]
  },
  {
   "cell_type": "code",
   "execution_count": 14,
   "metadata": {
    "scrolled": true
   },
   "outputs": [
    {
     "data": {
      "text/plain": [
       "<tf.Tensor: shape=(120, 4), dtype=float32, numpy=\n",
       "array([[5.4, 3.9, 1.3, 0.4],\n",
       "       [4.9, 2.5, 4.5, 1.7],\n",
       "       [6.7, 3. , 5. , 1.7],\n",
       "       [7.2, 3.6, 6.1, 2.5],\n",
       "       [6. , 2.2, 5. , 1.5],\n",
       "       [4.6, 3.1, 1.5, 0.2],\n",
       "       [6.9, 3.1, 5.1, 2.3],\n",
       "       [5.9, 3.2, 4.8, 1.8],\n",
       "       [5.5, 2.4, 3.8, 1.1],\n",
       "       [7. , 3.2, 4.7, 1.4],\n",
       "       [6.3, 3.3, 4.7, 1.6],\n",
       "       [6.4, 2.8, 5.6, 2.2],\n",
       "       [4.5, 2.3, 1.3, 0.3],\n",
       "       [6.5, 2.8, 4.6, 1.5],\n",
       "       [5. , 3.5, 1.3, 0.3],\n",
       "       [5.2, 3.5, 1.5, 0.2],\n",
       "       [7.2, 3.2, 6. , 1.8],\n",
       "       [4.4, 3. , 1.3, 0.2],\n",
       "       [5.4, 3. , 4.5, 1.5],\n",
       "       [5.1, 3.7, 1.5, 0.4],\n",
       "       [6.6, 3. , 4.4, 1.4],\n",
       "       [4.8, 3.1, 1.6, 0.2],\n",
       "       [6.6, 2.9, 4.6, 1.3],\n",
       "       [5.3, 3.7, 1.5, 0.2],\n",
       "       [6. , 2.9, 4.5, 1.5],\n",
       "       [5.7, 2.8, 4.5, 1.3],\n",
       "       [5.8, 2.7, 5.1, 1.9],\n",
       "       [6.3, 2.3, 4.4, 1.3],\n",
       "       [4.9, 3.1, 1.5, 0.1],\n",
       "       [6.1, 2.6, 5.6, 1.4],\n",
       "       [6.3, 2.5, 5. , 1.9],\n",
       "       [6.7, 3. , 5.2, 2.3],\n",
       "       [4.6, 3.6, 1. , 0.2],\n",
       "       [6.5, 3. , 5.2, 2. ],\n",
       "       [4.8, 3. , 1.4, 0.1],\n",
       "       [5.6, 2.5, 3.9, 1.1],\n",
       "       [7.7, 2.6, 6.9, 2.3],\n",
       "       [5.1, 3.8, 1.5, 0.3],\n",
       "       [7.7, 3.8, 6.7, 2.2],\n",
       "       [4.9, 3.1, 1.5, 0.1],\n",
       "       [6.9, 3.1, 4.9, 1.5],\n",
       "       [6. , 2.7, 5.1, 1.6],\n",
       "       [7.2, 3. , 5.8, 1.6],\n",
       "       [5.8, 2.7, 4.1, 1. ],\n",
       "       [6.7, 3.3, 5.7, 2.1],\n",
       "       [5. , 3. , 1.6, 0.2],\n",
       "       [6.4, 2.8, 5.6, 2.1],\n",
       "       [6.8, 3.2, 5.9, 2.3],\n",
       "       [4.6, 3.2, 1.4, 0.2],\n",
       "       [6.2, 2.8, 4.8, 1.8],\n",
       "       [7.7, 3. , 6.1, 2.3],\n",
       "       [5.6, 2.9, 3.6, 1.3],\n",
       "       [6.1, 2.8, 4. , 1.3],\n",
       "       [5.4, 3.4, 1.5, 0.4],\n",
       "       [6. , 3. , 4.8, 1.8],\n",
       "       [5.1, 3.5, 1.4, 0.3],\n",
       "       [7.4, 2.8, 6.1, 1.9],\n",
       "       [5.4, 3.9, 1.7, 0.4],\n",
       "       [5. , 3.3, 1.4, 0.2],\n",
       "       [6.3, 3.4, 5.6, 2.4],\n",
       "       [5. , 3.6, 1.4, 0.2],\n",
       "       [5.8, 2.7, 5.1, 1.9],\n",
       "       [5. , 3.2, 1.2, 0.2],\n",
       "       [5.9, 3. , 5.1, 1.8],\n",
       "       [5.7, 4.4, 1.5, 0.4],\n",
       "       [4.8, 3.4, 1.6, 0.2],\n",
       "       [5. , 3.4, 1.5, 0.2],\n",
       "       [4.9, 3. , 1.4, 0.2],\n",
       "       [6.5, 3. , 5.8, 2.2],\n",
       "       [4.4, 3.2, 1.3, 0.2],\n",
       "       [6.1, 3. , 4.9, 1.8],\n",
       "       [5. , 3.5, 1.6, 0.6],\n",
       "       [5.5, 2.4, 3.7, 1. ],\n",
       "       [6.1, 2.9, 4.7, 1.4],\n",
       "       [4.7, 3.2, 1.3, 0.2],\n",
       "       [5.5, 3.5, 1.3, 0.2],\n",
       "       [5.4, 3.7, 1.5, 0.2],\n",
       "       [5. , 2. , 3.5, 1. ],\n",
       "       [5.8, 2.6, 4. , 1.2],\n",
       "       [6.3, 2.7, 4.9, 1.8],\n",
       "       [6.2, 2.2, 4.5, 1.5],\n",
       "       [6.7, 3.1, 4.4, 1.4],\n",
       "       [4.9, 3.1, 1.5, 0.1],\n",
       "       [6.3, 3.3, 6. , 2.5],\n",
       "       [4.6, 3.4, 1.4, 0.3],\n",
       "       [5.7, 3. , 4.2, 1.2],\n",
       "       [4.8, 3. , 1.4, 0.3],\n",
       "       [5.1, 2.5, 3. , 1.1],\n",
       "       [6.9, 3.2, 5.7, 2.3],\n",
       "       [6.8, 3. , 5.5, 2.1],\n",
       "       [5. , 3.4, 1.6, 0.4],\n",
       "       [6.1, 2.8, 4.7, 1.2],\n",
       "       [5.2, 3.4, 1.4, 0.2],\n",
       "       [7.3, 2.9, 6.3, 1.8],\n",
       "       [4.9, 2.4, 3.3, 1. ],\n",
       "       [5.6, 2.7, 4.2, 1.3],\n",
       "       [7.6, 3. , 6.6, 2.1],\n",
       "       [6.8, 2.8, 4.8, 1.4],\n",
       "       [6.4, 2.7, 5.3, 1.9],\n",
       "       [4.4, 2.9, 1.4, 0.2],\n",
       "       [7.9, 3.8, 6.4, 2. ],\n",
       "       [7.7, 2.8, 6.7, 2. ],\n",
       "       [5.2, 2.7, 3.9, 1.4],\n",
       "       [6.4, 3.2, 5.3, 2.3],\n",
       "       [6.7, 3.1, 5.6, 2.4],\n",
       "       [5. , 2.3, 3.3, 1. ],\n",
       "       [5.5, 2.6, 4.4, 1.2],\n",
       "       [5.8, 2.8, 5.1, 2.4],\n",
       "       [5.1, 3.8, 1.9, 0.4],\n",
       "       [6.4, 3.2, 4.5, 1.5],\n",
       "       [5.7, 3.8, 1.7, 0.3],\n",
       "       [5.7, 2.8, 4.1, 1.3],\n",
       "       [5.7, 2.9, 4.2, 1.3],\n",
       "       [6.2, 3.4, 5.4, 2.3],\n",
       "       [6.5, 3.2, 5.1, 2. ],\n",
       "       [6.5, 3. , 5.5, 1.8],\n",
       "       [5.8, 4. , 1.2, 0.2],\n",
       "       [5.1, 3.8, 1.6, 0.2],\n",
       "       [4.7, 3.2, 1.6, 0.2],\n",
       "       [6.4, 3.1, 5.5, 1.8]], dtype=float32)>"
      ]
     },
     "execution_count": 14,
     "metadata": {},
     "output_type": "execute_result"
    }
   ],
   "source": [
    "train_dataset_packed = train_dataset.map(pack_features_vector)\n",
    "\n",
    "features, labels = next(iter(train_dataset_packed))\n",
    "\n",
    "features[:,:5]"
   ]
  },
  {
   "cell_type": "code",
   "execution_count": 8,
   "metadata": {},
   "outputs": [
    {
     "ename": "NameError",
     "evalue": "name 'pack_features_vector' is not defined",
     "output_type": "error",
     "traceback": [
      "\u001b[0;31m---------------------------------------------------------------------------\u001b[0m",
      "\u001b[0;31mNameError\u001b[0m                                 Traceback (most recent call last)",
      "\u001b[0;32m<ipython-input-8-44ead3e7142e>\u001b[0m in \u001b[0;36m<module>\u001b[0;34m\u001b[0m\n\u001b[1;32m     17\u001b[0m \u001b[0;31m# EXTREMELY IMPORTANT to shuffle... for the training set... should have done that up above?\u001b[0m\u001b[0;34m\u001b[0m\u001b[0;34m\u001b[0m\u001b[0;34m\u001b[0m\u001b[0m\n\u001b[1;32m     18\u001b[0m \u001b[0;34m\u001b[0m\u001b[0m\n\u001b[0;32m---> 19\u001b[0;31m \u001b[0mtest_dataset_packed\u001b[0m \u001b[0;34m=\u001b[0m \u001b[0mtest_dataset\u001b[0m\u001b[0;34m.\u001b[0m\u001b[0mmap\u001b[0m\u001b[0;34m(\u001b[0m\u001b[0mpack_features_vector\u001b[0m\u001b[0;34m)\u001b[0m\u001b[0;34m\u001b[0m\u001b[0;34m\u001b[0m\u001b[0m\n\u001b[0m",
      "\u001b[0;31mNameError\u001b[0m: name 'pack_features_vector' is not defined"
     ]
    }
   ],
   "source": [
    "# repurposing the code from\n",
    "# https://www.tensorflow.org/tutorials/customization/custom_training_walkthrough\n",
    "\n",
    "test_url = \"https://storage.googleapis.com/download.tensorflow.org/data/iris_test.csv\"\n",
    "\n",
    "file = \"iris_test.csv\"\n",
    "test_dataset_fp = tf.keras.utils.get_file(fname=path+file, origin=test_url)\n",
    "\n",
    "test_batch_size = 15\n",
    "test_dataset = tf.data.experimental.make_csv_dataset(\n",
    "    test_dataset_fp,\n",
    "    test_batch_size,\n",
    "    column_names=column_names,\n",
    "    label_name='species',\n",
    "    num_epochs=1,\n",
    "    shuffle=True)\n",
    "# EXTREMELY IMPORTANT to shuffle... for the training set... should have done that up above?\n",
    "\n",
    "test_dataset_packed = test_dataset.map(pack_features_vector)"
   ]
  },
  {
   "cell_type": "code",
   "execution_count": null,
   "metadata": {},
   "outputs": [],
   "source": [
    "# tf.data.experimental.make_csv_dataset?\n",
    "# ! head {test_dataset_fp}\n",
    "# wc -l {test_dataset_fp}"
   ]
  },
  {
   "cell_type": "markdown",
   "metadata": {},
   "source": [
    "- So what is this `next(iter())` thing about?"
   ]
  },
  {
   "cell_type": "code",
   "execution_count": null,
   "metadata": {},
   "outputs": [],
   "source": [
    "next(iter(test_dataset_packed))"
   ]
  },
  {
   "cell_type": "code",
   "execution_count": null,
   "metadata": {},
   "outputs": [],
   "source": [
    "#tmp = iter(test_dataset_packed)\n",
    "#next(tmp)\n",
    "test_dataset_packed"
   ]
  },
  {
   "cell_type": "code",
   "execution_count": null,
   "metadata": {},
   "outputs": [],
   "source": [
    "next(tmp)"
   ]
  },
  {
   "cell_type": "markdown",
   "metadata": {},
   "source": [
    "- Don't worry: you can instantiate a tf data set over and over and over each time you hit it in a `for` loop!\n",
    "    - (which just calls the `iter()` instantiator on the thing you're looping over)\n",
    "    - so, `for` loop set up calls `iter()`\n",
    "    - and, `for` loop steps call `next()`\n",
    "    - until it iterator ends"
   ]
  },
  {
   "cell_type": "code",
   "execution_count": null,
   "metadata": {},
   "outputs": [],
   "source": [
    "for minibatch in test_dataset_packed:\n",
    "    print(minibatch)"
   ]
  },
  {
   "cell_type": "markdown",
   "metadata": {},
   "source": [
    "These iterator data set things are super cool... and actually, they're *generators*! \n",
    "- Which means?"
   ]
  },
  {
   "cell_type": "markdown",
   "metadata": {},
   "source": [
    "# Model 1: two hidden layer composition\n",
    "\n",
    "Here are a bunch of resources I looked at and found helpful in various ways!\n",
    "- https://www.tensorflow.org/tutorials/customization/custom_training_walkthrough\n",
    "- https://www.kdnuggets.com/2020/08/tensorflow-model-regularization-techniques.html\n",
    "watch out, though: the world changes fast!\n",
    "- https://www.pyimagesearch.com/2018/12/24/how-to-use-keras-fit-and-fit_generator-a-hands-on-tutorial/\n",
    "- https://www.tensorflow.org/api_docs/python/tf/keras/Model"
   ]
  },
  {
   "cell_type": "code",
   "execution_count": null,
   "metadata": {
    "scrolled": true
   },
   "outputs": [],
   "source": [
    "# hopefully this should be readly interpretable to you by now!\n",
    "\n",
    "model = tf.keras.Sequential([\n",
    "  tf.keras.layers.Dense(1024, activation=tf.nn.relu, input_shape=(4,)),  # input shape required\n",
    "  tf.keras.layers.Dense(512, activation=tf.nn.relu),\n",
    "  tf.keras.layers.Dense(3)\n",
    "])\n",
    "# Sometimes I prefer using an *explicit* keras `Input` layer: https://keras.io/api/layers/core_layers/input/\n",
    "# but the above seems pretty reasonable as well... there are quite a few ways to do things in Keras\n",
    "\n",
    "# trusty ol' `softmax`\n",
    "tf.nn.softmax(model(features)[:5,:])"
   ]
  },
  {
   "cell_type": "markdown",
   "metadata": {},
   "source": [
    "- Be Careful!\n",
    "    - if we represented the binary classification output with a single column, then we'd need `sigmoid` activation\n",
    "    - but if we were doing a binary classification using two columns, we'd need to use `softmax` activation instead!\n",
    "\n",
    "\n",
    "Also note that this issue is different from how the output is encoded. As noted in [the documentation](https://keras.io/api/losses/probabilistic_losses/#sparsecategoricalcrossentropy-class):\n",
    "\n",
    "> \"Use [a `SparseCategoricalCrossentropy`] loss function when there are two or more label classes [and we] expect labels to be provided as integers. If you want to provide labels using `one-hot` representation, please use `CategoricalCrossentropy` loss\"\n",
    "\n",
    "- which seems a quite unfortunate use of the term \"Sparse\"...\n",
    "\n",
    "And finally, also note that *crossentropy* IS *negative log loss*, and using a sigmoid output with with a single column representation, or a softmax output with a two column representation are equivalent (reparameterized) specifications, and both will (generally) use *crossentropy* for their loss... which is the same as *negative log loss* under a bernoulli specification."
   ]
  },
  {
   "cell_type": "markdown",
   "metadata": {},
   "source": [
    "### **Let's take a little spin through this model**:"
   ]
  },
  {
   "cell_type": "code",
   "execution_count": null,
   "metadata": {},
   "outputs": [],
   "source": [
    "features"
   ]
  },
  {
   "cell_type": "code",
   "execution_count": null,
   "metadata": {},
   "outputs": [],
   "source": [
    "tf.argmax(model(features), axis=1), labels"
   ]
  },
  {
   "cell_type": "code",
   "execution_count": null,
   "metadata": {},
   "outputs": [],
   "source": [
    "model(features)"
   ]
  },
  {
   "cell_type": "code",
   "execution_count": null,
   "metadata": {},
   "outputs": [],
   "source": [
    "dir(model)\n",
    "dir(model.layers[0])\n",
    "model.layers[0].trainable_variables\n",
    "model.layers[2].trainable_variables\n"
   ]
  },
  {
   "cell_type": "code",
   "execution_count": null,
   "metadata": {},
   "outputs": [],
   "source": [
    "plt.hist(model.layers[2].trainable_variables[0][:,0].numpy())\n",
    "plt.hist(model.layers[2].trainable_variables[0][:,1].numpy())\n",
    "plt.hist(model.layers[2].trainable_variables[0][:,2].numpy())\n"
   ]
  },
  {
   "cell_type": "code",
   "execution_count": null,
   "metadata": {},
   "outputs": [],
   "source": [
    "plt.hist(model(features)[:,0].numpy())\n",
    "plt.hist(model(features)[:,1].numpy())\n",
    "plt.hist(model(features)[:,2].numpy())\n"
   ]
  },
  {
   "cell_type": "code",
   "execution_count": null,
   "metadata": {},
   "outputs": [],
   "source": [
    "plt.hist(model(features).numpy()[labels.numpy()==0,0])\n",
    "plt.hist(model(features).numpy()[labels.numpy()==1,0])\n",
    "plt.hist(model(features).numpy()[labels.numpy()==2,0])\n"
   ]
  },
  {
   "cell_type": "markdown",
   "metadata": {},
   "source": [
    "### **Now let's set up our model fitting**:"
   ]
  },
  {
   "cell_type": "code",
   "execution_count": null,
   "metadata": {},
   "outputs": [],
   "source": [
    "# again, I'm just lifting this from\n",
    "# https://www.tensorflow.org/tutorials/customization/custom_training_walkthrough\n",
    "    \n",
    "# note the \"Sparse\" is based on the labels being NOT being one-hot encoded... huh?/grrr...\n",
    "loss_object = tf.keras.losses.SparseCategoricalCrossentropy(from_logits=True)\n",
    "\n",
    "def grad(model, x, y):\n",
    "    \n",
    "    # \"tape\" here, as in \"tape recorder\"... because why not give new technology old technology names, amiright?\n",
    "    with tf.GradientTape() as tape:\n",
    "        loss_value = loss_object(y_true=y, y_pred=model(x, training=True)) \n",
    "                                                           # The model sometimes needs to work differently \n",
    "                                                           # during training and testing... \n",
    "                                                           # ... Anyone have a good example of this?\n",
    "        \n",
    "    return loss_value, tape.gradient(loss_value, model.trainable_variables)\n",
    "\n",
    "# Playing around with some optimizer choices for the vanilla set up... landed on the last one for now\n",
    "# Optimizers will be discussed next class!  Can be a very crucial piece of the puzzle...\n",
    "optimizer = tf.keras.optimizers.SGD(learning_rate=0.005)\n",
    "optimizer = tf.keras.optimizers.Adam()\n",
    "optimizer = tf.keras.optimizers.SGD(learning_rate=0.001, momentum=.2)\n",
    "optimizer = tf.keras.optimizers.Adam(learning_rate=0.0001, beta_1=0.9, beta_2=0.9, epsilon=1e-07)\n"
   ]
  },
  {
   "cell_type": "code",
   "execution_count": 107,
   "metadata": {},
   "outputs": [],
   "source": [
    "# again, I'm just re-crafting for my own purposes from the code at\n",
    "# https://www.tensorflow.org/tutorials/customization/custom_training_walkthrough\n",
    "\n",
    "def fit(model, train, test, num_epochs, test_epoch_modulus=10):\n",
    "\n",
    "    train_loss_results = []\n",
    "    train_accuracy_results = []\n",
    "    train_epoch=list(range(num_epochs))\n",
    "    test_loss_results = []\n",
    "    test_accuracy_results = []\n",
    "    test_epoch = []\n",
    "\n",
    "    for epoch in range(num_epochs):\n",
    "\n",
    "        # these help us manage \"performance tracking\" within an epoch while accounting for batches \n",
    "        epoch_training_loss_avg = tf.keras.metrics.Mean()\n",
    "        epoch_training_accuracy = tf.keras.metrics.SparseCategoricalAccuracy()\n",
    "        epoch_testing_loss_avg = tf.keras.metrics.Mean()\n",
    "        epoch_testing_accuracy = tf.keras.metrics.SparseCategoricalAccuracy()\n",
    "\n",
    "        for x, y in train:\n",
    "            # Optimize the model\n",
    "            loss_value, grads = grad(model, x, y)\n",
    "            optimizer.apply_gradients(zip(grads, model.trainable_variables))\n",
    "\n",
    "            # Track progress\n",
    "            epoch_training_loss_avg.update_state(loss_value)  # Add current batch loss\n",
    "            # Compare predicted label to actual label\n",
    "            # training=True is needed only if there are layers with different\n",
    "            # behavior during training versus inference (e.g. Dropout).\n",
    "            epoch_training_accuracy.update_state(y, model(x, training=True))\n",
    "\n",
    "        # End epoch\n",
    "        train_loss_results.append(epoch_training_loss_avg.result())\n",
    "        train_accuracy_results.append(epoch_training_accuracy.result())\n",
    "\n",
    "        # test data set -- probably not every time\n",
    "        if epoch % test_epoch_modulus == 0:\n",
    "            for x, y in test:\n",
    "                y_pred = model(x, training=False)\n",
    "                loss_value = loss_object(y_true=y, y_pred=y_pred)\n",
    "                epoch_testing_loss_avg.update_state(loss_value)\n",
    "                epoch_testing_accuracy.update_state(y, y_pred)\n",
    "\n",
    "            test_epoch.append(epoch)\n",
    "            test_loss_results.append(epoch_testing_loss_avg.result())\n",
    "            test_accuracy_results.append(epoch_testing_accuracy.result())\n",
    "            \n",
    "    return {'train_epoch': train_epoch, \n",
    "            'test_epoch': test_epoch, \n",
    "            'train_loss_results': train_loss_results, \n",
    "            'test_loss_results': test_loss_results,\n",
    "            'train_accuracy_results': train_accuracy_results, \n",
    "            'test_accuracy_results': test_accuracy_results}\n",
    "\n",
    "# I have done this variable naming backwards... but below IS correct\n",
    "# I'm overfitting to the smaller \"Iris test data\"\n",
    "# and seeing how it generalizes \"out of sample\" \n",
    "results = dict()\n",
    "result = 'Vanilla'\n",
    "results[result] = fit(model, train=test_dataset_packed, test=train_dataset_packed, num_epochs=2001)"
   ]
  },
  {
   "cell_type": "markdown",
   "metadata": {},
   "source": [
    "# Model 1: two hidden layer composition"
   ]
  },
  {
   "cell_type": "code",
   "execution_count": 447,
   "metadata": {},
   "outputs": [
    {
     "data": {
      "image/png": "[encoded data removed]",
      "text/plain": [
       "<Figure size 432x288 with 1 Axes>"
      ]
     },
     "metadata": {
      "needs_background": "light"
     },
     "output_type": "display_data"
    }
   ],
   "source": [
    "# Since I'm not getting test scores after each epoch,\n",
    "# I need to \"impute\" some values to line up the train-test plots.\n",
    "# Originally I thought I'd impute with loess\n",
    "#\n",
    "# https://towardsdatascience.com/loess-373d43b03564\n",
    "# `! yes y | conda install statsmodels`\n",
    "# from statsmodels.nonparametric.smoothers_lowess import lowess\n",
    "#\n",
    "# But then I decided rolling averages would be easier!\n",
    "# https://www.datacamp.com/community/tutorials/moving-averages-in-pandas\n",
    "\n",
    "# plot can now be reused easily for different models\n",
    "def train_test_plot(label,x_train,y_train,x_test,y_test,w_train=1000,w_test=10):\n",
    "    ax.plot(x_train, pd.Series(np.array(y_train)).rolling(window=w_train).mean(), label=label+' train')\n",
    "    ax.plot(x_test, pd.Series(np.array(y_test)).rolling(window=w_test).mean(), label=label+' test')\n",
    "    ax.legend()\n",
    "    return ax\n",
    "\n",
    "fig, ax = plt.subplots()\n",
    "\n",
    "ax = train_test_plot(result,\n",
    "                     results[result]['train_epoch'], results[result]['train_loss_results'],\n",
    "                     results[result]['test_epoch'], results[result]['test_loss_results'], \n",
    "                     w_train=1,w_test=1)\n",
    "\n",
    "#ax.set_ylim([0,0.2])\n"
   ]
  },
  {
   "cell_type": "markdown",
   "metadata": {},
   "source": [
    "- Classical \"overfitting\""
   ]
  },
  {
   "cell_type": "code",
   "execution_count": 448,
   "metadata": {
    "scrolled": false
   },
   "outputs": [
    {
     "data": {
      "text/plain": [
       "(0.9, 1.01)"
      ]
     },
     "execution_count": 448,
     "metadata": {},
     "output_type": "execute_result"
    },
    {
     "data": {
      "image/png": "[encoded data removed]",
      "text/plain": [
       "<Figure size 432x288 with 1 Axes>"
      ]
     },
     "metadata": {
      "needs_background": "light"
     },
     "output_type": "display_data"
    }
   ],
   "source": [
    "\n",
    "fig, ax = plt.subplots()\n",
    "\n",
    "ax = train_test_plot(result,\n",
    "                     results[result]['train_epoch'], results[result]['train_accuracy_results'],\n",
    "                     results[result]['test_epoch'], results[result]['test_accuracy_results'], \n",
    "                     w_train=50,w_test=5)\n",
    "\n",
    "ax.set_ylim([0.9,1.01])"
   ]
  },
  {
   "cell_type": "markdown",
   "metadata": {},
   "source": [
    "- And increasingly hurting the \"bottom line\" accuracy "
   ]
  },
  {
   "cell_type": "markdown",
   "metadata": {},
   "source": [
    "# Model 2: two hidden layer composition; dropout\n",
    "\n",
    "- Yay, everyone's favorite! Right? ...RIGHT?? \n",
    "- But, I mean, look at this... it's NOT HARD to add this kind of regularization... \n",
    "    - If you're not at least exploring this you're not even trying!"
   ]
  },
  {
   "cell_type": "code",
   "execution_count": 453,
   "metadata": {},
   "outputs": [],
   "source": [
    "\n",
    "model = tf.keras.Sequential([\n",
    "  tf.keras.layers.Dense(1024, activation=tf.nn.relu, input_shape=(4,)),  # input shape required\n",
    "  tf.keras.layers.Dropout(0.5), #dropout with 50% rate  \n",
    "  tf.keras.layers.Dense(512, activation=tf.nn.relu),\n",
    "  tf.keras.layers.Dense(3)\n",
    "])\n",
    "\n",
    "optimizer = tf.keras.optimizers.Adam(learning_rate=0.0001, beta_1=0.5, beta_2=0.5, epsilon=1e-07)\n",
    "\n",
    "result = 'Dropout'\n",
    "results[result] = fit(model, train=test_dataset_packed, test=train_dataset_packed, num_epochs=1501)\n",
    "# again I'm \"training\" on \"iris test\" and scoring \"out of sample\" (i.e., \"testing\") on \"iris training\"\n",
    "# just using the smaller (more idiosyncratic) data set for fitting, and then trying to generalize\n",
    "# on the richer, i.e., BIGGER, \"more representative\" data set\n"
   ]
  },
  {
   "cell_type": "code",
   "execution_count": 458,
   "metadata": {},
   "outputs": [
    {
     "data": {
      "text/plain": [
       "(0.0, 0.2)"
      ]
     },
     "execution_count": 458,
     "metadata": {},
     "output_type": "execute_result"
    },
    {
     "data": {
      "image/png": "[encoded data removed]",
      "text/plain": [
       "<Figure size 432x288 with 1 Axes>"
      ]
     },
     "metadata": {
      "needs_background": "light"
     },
     "output_type": "display_data"
    }
   ],
   "source": [
    "fig, ax = plt.subplots()\n",
    "\n",
    "ax = train_test_plot(result,\n",
    "                     results[result]['train_epoch'], results[result]['train_loss_results'],\n",
    "                     results[result]['test_epoch'], results[result]['test_loss_results'], \n",
    "                     w_train=10,w_test=1)\n",
    "\n",
    "ax.set_ylim([0,0.5])"
   ]
  },
  {
   "cell_type": "markdown",
   "metadata": {},
   "source": [
    "- \"Overfitting\" doesn't start as soon\n",
    "- Actually, testing scores better to start with!\n",
    "    - it's often the case that generalization *is better* than the overfitting (i.e., training fit scores on itself)!!\n",
    "    - The dropout is breaking \"overfitting\" while still allowing generalizing features to be found"
   ]
  },
  {
   "cell_type": "code",
   "execution_count": 457,
   "metadata": {},
   "outputs": [
    {
     "data": {
      "text/plain": [
       "(0.9, 1.01)"
      ]
     },
     "execution_count": 457,
     "metadata": {},
     "output_type": "execute_result"
    },
    {
     "data": {
      "image/png": "[encoded data removed]",
      "text/plain": [
       "<Figure size 432x288 with 1 Axes>"
      ]
     },
     "metadata": {
      "needs_background": "light"
     },
     "output_type": "display_data"
    }
   ],
   "source": [
    "fig, ax = plt.subplots()\n",
    "\n",
    "ax = train_test_plot(result,\n",
    "                     results[result]['train_epoch'], results[result]['train_accuracy_results'],\n",
    "                     results[result]['test_epoch'], results[result]['test_accuracy_results'], \n",
    "                     w_train=50,w_test=5)\n",
    "\n",
    "ax.set_ylim([0.9,1.01])"
   ]
  },
  {
   "cell_type": "markdown",
   "metadata": {},
   "source": [
    "- Even when we're clearly \"overfitting\" the generalization is *still* very good and not suffering!\n",
    "- Dropout is learning generalizations *faster than it can overfit*!"
   ]
  },
  {
   "cell_type": "markdown",
   "metadata": {},
   "source": [
    "# Model 3: two hidden layer composition; batch normalized\n",
    "\n",
    "- This is a *legendary* breakthrough, on the order of ReLU...\n",
    "    - it's *Game Changing* for optimization/model fitting... but that's a topic for next class\n",
    "        - IT ALSO ACTUALLY WORKS AS REGULARIZATION, TOO! Whaaaaaaaat!?\n",
    "- And again, this is so easy... how can you not be exploring this in your models?"
   ]
  },
  {
   "cell_type": "code",
   "execution_count": 683,
   "metadata": {},
   "outputs": [],
   "source": [
    "\n",
    "# *GREATLY* reduced model size\n",
    "model = tf.keras.Sequential([\n",
    "  tf.keras.Input(shape=(4,)),\n",
    "  tf.keras.layers.Dense(64), \n",
    "  tf.keras.layers.BatchNormalization(), # the Deep Learning textbook recomends this order (before RELU)\n",
    "  tf.keras.layers.ReLU(), # however, empiricaly it seems BatchNorm *after* \n",
    "  tf.keras.layers.Dense(32),\n",
    "  tf.keras.layers.BatchNormalization(), \n",
    "  tf.keras.layers.ReLU(),  \n",
    "  tf.keras.layers.Dense(3)\n",
    "])\n",
    "\n",
    "optimizer = tf.keras.optimizers.Adam(learning_rate=0.0000175, beta_1=0.999, beta_2=0.999, epsilon=1e-07)\n",
    "\n",
    "result = 'Batch_Normalized'\n",
    "results[result] = fit(model, train=test_dataset_packed, test=train_dataset_packed, num_epochs=4001, test_epoch_modulus=50)\n",
    "# same story as explained above: intentionally flipped train/test for demo purposes\n"
   ]
  },
  {
   "cell_type": "code",
   "execution_count": 684,
   "metadata": {},
   "outputs": [
    {
     "data": {
      "image/png": "[encoded data removed]",
      "text/plain": [
       "<Figure size 432x288 with 1 Axes>"
      ]
     },
     "metadata": {
      "needs_background": "light"
     },
     "output_type": "display_data"
    }
   ],
   "source": [
    "fig, ax = plt.subplots()\n",
    "\n",
    "ax = train_test_plot(result,\n",
    "                     results[result]['train_epoch'], results[result]['train_loss_results'],\n",
    "                     results[result]['test_epoch'], results[result]['test_loss_results'], \n",
    "                     w_train=1,w_test=1)\n",
    "\n",
    "#ax.set_ylim([0,0.2])"
   ]
  },
  {
   "cell_type": "markdown",
   "metadata": {},
   "source": [
    "- We need to \"learn slower\" with this \n",
    "    - so we can \"ease\" into stable feature \"centering and scaling\"... \n",
    "    - the centering and scaling effects can be too reactive/sporadic if we change them too quickly\n",
    "- But notice how again (like dropout) \"Generalization\" happens faster than \"Overfitting\"\n",
    "- And we're not getting the same loss as before (but the model is so much smaller!)\n",
    "\n",
    "\n",
    "- **What's happening is that `BatchNorm` is adding a little noise into the higher data abstractions**\n",
    "    - THIS IS DATA AUGMENTATION\n",
    "    - subsequent feature engineering in the network needs to find generalizations that can handle this sort of noise and variation in the data!\n"
   ]
  },
  {
   "cell_type": "code",
   "execution_count": 685,
   "metadata": {},
   "outputs": [
    {
     "data": {
      "text/plain": [
       "(0.9, 1.01)"
      ]
     },
     "execution_count": 685,
     "metadata": {},
     "output_type": "execute_result"
    },
    {
     "data": {
      "image/png": "[encoded data removed]",
      "text/plain": [
       "<Figure size 432x288 with 1 Axes>"
      ]
     },
     "metadata": {
      "needs_background": "light"
     },
     "output_type": "display_data"
    }
   ],
   "source": [
    "fig, ax = plt.subplots()\n",
    "\n",
    "ax = train_test_plot(result,\n",
    "                     results[result]['train_epoch'], results[result]['train_accuracy_results'],\n",
    "                     results[result]['test_epoch'], results[result]['test_accuracy_results'], \n",
    "                     w_train=50,w_test=1)\n",
    "\n",
    "ax.set_ylim([0.9,1.01])"
   ]
  },
  {
   "cell_type": "markdown",
   "metadata": {},
   "source": [
    "- With a MUCH simpler model, we've been able relatively quickly find very good generalizations\n",
    "\n",
    "\n",
    "- The \"zig-zag\" pattern is because changes to the \"centering and scaling\" can cause major \"inadvertant shakups\" to the network, breaking it out of the trajectory the model was initially following on the loss function"
   ]
  },
  {
   "cell_type": "markdown",
   "metadata": {},
   "source": [
    "# Model 4: two hidden layer composition; data augmentation\n",
    "\n",
    "- Check this out: you're gonna like this\n",
    "    - and again, it's too easy to try this out to not be doing it..."
   ]
  },
  {
   "cell_type": "code",
   "execution_count": 635,
   "metadata": {},
   "outputs": [],
   "source": [
    "\n",
    "# https://www.tensorflow.org/api_docs/python/tf/keras/layers/GaussianNoise\n",
    "import tensorflow_probability as tfp\n",
    "\n",
    "model = tf.keras.Sequential([\n",
    "  tf.keras.Input(shape=(4,)),\n",
    "  tf.keras.layers.Dense(1024), \n",
    "  tf.keras.layers.ReLU(),  \n",
    "  tf.keras.layers.GaussianNoise(.1), # this needs to be carefully scaled! It's another tuning parameter...\n",
    "  tf.keras.layers.Dense(512),\n",
    "  tf.keras.layers.ReLU(),  \n",
    "  tf.keras.layers.Dense(3)\n",
    "])\n",
    "\n",
    "optimizer = tf.keras.optimizers.Adam(learning_rate=0.00005, beta_1=0.9, beta_2=0.9, epsilon=1e-07)\n",
    "\n",
    "result = 'Data_Augmentation'\n",
    "results[result] = fit(model, train=test_dataset_packed, test=train_dataset_packed, num_epochs=1001, test_epoch_modulus=50)\n"
   ]
  },
  {
   "cell_type": "code",
   "execution_count": 636,
   "metadata": {},
   "outputs": [
    {
     "data": {
      "text/plain": [
       "(0.0, 0.5)"
      ]
     },
     "execution_count": 636,
     "metadata": {},
     "output_type": "execute_result"
    },
    {
     "data": {
      "image/png": "[encoded data removed]",
      "text/plain": [
       "<Figure size 432x288 with 1 Axes>"
      ]
     },
     "metadata": {
      "needs_background": "light"
     },
     "output_type": "display_data"
    }
   ],
   "source": [
    "fig, ax = plt.subplots()\n",
    "\n",
    "ax = train_test_plot(result,\n",
    "                     results[result]['train_epoch'], results[result]['train_loss_results'],\n",
    "                     results[result]['test_epoch'], results[result]['test_loss_results'], \n",
    "                     w_train=10,w_test=1)\n",
    "\n",
    "ax.set_ylim([0,0.5])"
   ]
  },
  {
   "cell_type": "markdown",
   "metadata": {},
   "source": [
    "- That's wild... it's like it's not even overfitting!\n",
    "- Anyway, here, we're just directly explicitly doing data augmentation at at higher levels of data abstractions/featurizations"
   ]
  },
  {
   "cell_type": "code",
   "execution_count": 637,
   "metadata": {},
   "outputs": [
    {
     "data": {
      "text/plain": [
       "(0.9, 1.01)"
      ]
     },
     "execution_count": 637,
     "metadata": {},
     "output_type": "execute_result"
    },
    {
     "data": {
      "image/png": "[encoded data removed]",
      "text/plain": [
       "<Figure size 432x288 with 1 Axes>"
      ]
     },
     "metadata": {
      "needs_background": "light"
     },
     "output_type": "display_data"
    }
   ],
   "source": [
    "fig, ax = plt.subplots()\n",
    "\n",
    "ax = train_test_plot(result,\n",
    "                     results[result]['train_epoch'], results[result]['train_accuracy_results'],\n",
    "                     results[result]['test_epoch'], results[result]['test_accuracy_results'], \n",
    "                     w_train=50,w_test=1)\n",
    "\n",
    "ax.set_ylim([0.9,1.01])"
   ]
  },
  {
   "cell_type": "markdown",
   "metadata": {},
   "source": [
    "- We're generalizing better than training overfitting\n",
    "- because we're not fitting on a limited training set:\n",
    "    - we're using TONS of purtibations/variations of that data set"
   ]
  },
  {
   "cell_type": "markdown",
   "metadata": {},
   "source": [
    "# Model 5: two hidden layer composition; random weights\n",
    "- This is Bayesian... ooo...\n",
    "- Instead of adding noise to the actvations (features):\n",
    "    - assume the weights (parameters) have distributions\n",
    "        - which we sample from\n",
    "        \n",
    "        \n",
    "- Surprise: it's not hard to do this..."
   ]
  },
  {
   "cell_type": "code",
   "execution_count": 654,
   "metadata": {},
   "outputs": [],
   "source": [
    "\n",
    "# https://www.tensorflow.org/probability/api_docs/python/tfp/layers/DenseFlipout\n",
    "import tensorflow_probability as tfp\n",
    "\n",
    "model = tf.keras.Sequential([\n",
    "  tf.keras.Input(shape=(4,)),\n",
    "  tfp.layers.DenseFlipout(1024), \n",
    "  tf.keras.layers.ReLU(), \n",
    "  tf.keras.layers.Dense(512),\n",
    "  tf.keras.layers.ReLU(),  \n",
    "  tf.keras.layers.Dense(3)\n",
    "])\n",
    "\n",
    "optimizer = tf.keras.optimizers.Adam(learning_rate=0.00002, beta_1=0.99, beta_2=0.99, epsilon=1e-07)\n",
    "\n",
    "result = 'Random_Weights'\n",
    "results[result] = fit(model, train=test_dataset_packed, test=train_dataset_packed, num_epochs=1001, test_epoch_modulus=50)\n",
    "\n"
   ]
  },
  {
   "cell_type": "code",
   "execution_count": 655,
   "metadata": {},
   "outputs": [
    {
     "data": {
      "text/plain": [
       "(0.0, 0.5)"
      ]
     },
     "execution_count": 655,
     "metadata": {},
     "output_type": "execute_result"
    },
    {
     "data": {
      "image/png": "[encoded data removed]",
      "text/plain": [
       "<Figure size 432x288 with 1 Axes>"
      ]
     },
     "metadata": {
      "needs_background": "light"
     },
     "output_type": "display_data"
    }
   ],
   "source": [
    "fig, ax = plt.subplots()\n",
    "\n",
    "ax = train_test_plot(result,\n",
    "                     results[result]['train_epoch'], results[result]['train_loss_results'],\n",
    "                     results[result]['test_epoch'], results[result]['test_loss_results'], \n",
    "                     w_train=10,w_test=1)\n",
    "\n",
    "ax.set_ylim([0,0.5])"
   ]
  },
  {
   "cell_type": "markdown",
   "metadata": {},
   "source": [
    "- Same story as data augmentation: it's lke we're not even overfitting\n",
    "    - again, because it's actually working with \"SO MUCH\" data"
   ]
  },
  {
   "cell_type": "code",
   "execution_count": 656,
   "metadata": {},
   "outputs": [
    {
     "data": {
      "text/plain": [
       "(0.9, 1.01)"
      ]
     },
     "execution_count": 656,
     "metadata": {},
     "output_type": "execute_result"
    },
    {
     "data": {
      "image/png": "[encoded data removed]",
      "text/plain": [
       "<Figure size 432x288 with 1 Axes>"
      ]
     },
     "metadata": {
      "needs_background": "light"
     },
     "output_type": "display_data"
    }
   ],
   "source": [
    "fig, ax = plt.subplots()\n",
    "\n",
    "ax = train_test_plot(result,\n",
    "                     results[result]['train_epoch'], results[result]['train_accuracy_results'],\n",
    "                     results[result]['test_epoch'], results[result]['test_accuracy_results'], \n",
    "                     w_train=50,w_test=1)\n",
    "\n",
    "ax.set_ylim([0.9,1.01])"
   ]
  },
  {
   "cell_type": "markdown",
   "metadata": {},
   "source": [
    "- It *IS* \"harder\" to get \"top predction scores\"\n",
    "- but that's because you're allowing for uncertainty, rather than just \"choosing the best\""
   ]
  },
  {
   "cell_type": "markdown",
   "metadata": {},
   "source": [
    "# Model 6: two hidden layer composition; weight decay\n",
    "\n",
    "- Not hard to use...\n"
   ]
  },
  {
   "cell_type": "code",
   "execution_count": 669,
   "metadata": {},
   "outputs": [],
   "source": [
    "\n",
    "model = tf.keras.Sequential([\n",
    "  tf.keras.layers.Dense(1024, activation=tf.nn.relu, input_shape=(4,), # input shape required\n",
    "                        kernel_regularizer=tf.keras.regularizers.l2(l2=0.01)), \n",
    "  tf.keras.layers.Dense(512, activation=tf.nn.relu),\n",
    "  tf.keras.layers.Dense(3)\n",
    "])\n",
    "\n",
    "optimizer = tf.keras.optimizers.Adam(learning_rate=0.000025, beta_1=0.9, beta_2=0.9, epsilon=1e-07)\n",
    "\n",
    "result = 'Weight_Decay'\n",
    "results[result] = fit(model, train=test_dataset_packed, test=train_dataset_packed, num_epochs=1001, test_epoch_modulus=50)\n",
    "\n"
   ]
  },
  {
   "cell_type": "code",
   "execution_count": 670,
   "metadata": {},
   "outputs": [
    {
     "data": {
      "text/plain": [
       "(0.0, 0.5)"
      ]
     },
     "execution_count": 670,
     "metadata": {},
     "output_type": "execute_result"
    },
    {
     "data": {
      "image/png": "[encoded data removed]",
      "text/plain": [
       "<Figure size 432x288 with 1 Axes>"
      ]
     },
     "metadata": {
      "needs_background": "light"
     },
     "output_type": "display_data"
    }
   ],
   "source": [
    "fig, ax = plt.subplots()\n",
    "\n",
    "ax = train_test_plot(result,\n",
    "                     results[result]['train_epoch'], results[result]['train_loss_results'],\n",
    "                     results[result]['test_epoch'], results[result]['test_loss_results'], \n",
    "                     w_train=10,w_test=1)\n",
    "\n",
    "ax.set_ylim([0,0.5])"
   ]
  },
  {
   "cell_type": "markdown",
   "metadata": {},
   "source": [
    "- Pretty sweet. Overfitting happens more slowly with this weight decay regularization"
   ]
  },
  {
   "cell_type": "code",
   "execution_count": 671,
   "metadata": {},
   "outputs": [
    {
     "data": {
      "text/plain": [
       "(0.9, 1.01)"
      ]
     },
     "execution_count": 671,
     "metadata": {},
     "output_type": "execute_result"
    },
    {
     "data": {
      "image/png": "[encoded data removed]",
      "text/plain": [
       "<Figure size 432x288 with 1 Axes>"
      ]
     },
     "metadata": {
      "needs_background": "light"
     },
     "output_type": "display_data"
    }
   ],
   "source": [
    "fig, ax = plt.subplots()\n",
    "\n",
    "ax = train_test_plot(result,\n",
    "                     results[result]['train_epoch'], results[result]['train_accuracy_results'],\n",
    "                     results[result]['test_epoch'], results[result]['test_accuracy_results'], \n",
    "                     w_train=50,w_test=1)\n",
    "\n",
    "ax.set_ylim([0.9,1.01])"
   ]
  },
  {
   "cell_type": "markdown",
   "metadata": {},
   "source": [
    "- Nice: working sweet!"
   ]
  },
  {
   "cell_type": "markdown",
   "metadata": {},
   "source": [
    "# Model 7: two hidden layer composition; sparse representation\n",
    "\n",
    "- Not hard to use..."
   ]
  },
  {
   "cell_type": "code",
   "execution_count": 675,
   "metadata": {},
   "outputs": [],
   "source": [
    "\n",
    "model = tf.keras.Sequential([\n",
    "  tf.keras.layers.Dense(1024, activation=tf.nn.relu, input_shape=(4,)), # input shape required\n",
    "  tf.keras.layers.Dense(512, activation=tf.nn.relu,\n",
    "                        activity_regularizer=tf.keras.regularizers.l1(l1=0.01)),\n",
    "  tf.keras.layers.Dense(3)\n",
    "])\n",
    "\n",
    "optimizer = tf.keras.optimizers.Adam(learning_rate=0.000025, beta_1=0.9, beta_2=0.9, epsilon=1e-07)\n",
    "\n",
    "result = 'Sparse_Representation'\n",
    "results[result] = fit(model, train=test_dataset_packed, test=train_dataset_packed, num_epochs=1001, test_epoch_modulus=50)\n",
    "\n"
   ]
  },
  {
   "cell_type": "code",
   "execution_count": 676,
   "metadata": {},
   "outputs": [
    {
     "data": {
      "text/plain": [
       "(0.0, 0.5)"
      ]
     },
     "execution_count": 676,
     "metadata": {},
     "output_type": "execute_result"
    },
    {
     "data": {
      "image/png": "[encoded data removed]",
      "text/plain": [
       "<Figure size 432x288 with 1 Axes>"
      ]
     },
     "metadata": {
      "needs_background": "light"
     },
     "output_type": "display_data"
    }
   ],
   "source": [
    "fig, ax = plt.subplots()\n",
    "\n",
    "ax = train_test_plot(result,\n",
    "                     results[result]['train_epoch'], results[result]['train_loss_results'],\n",
    "                     results[result]['test_epoch'], results[result]['test_loss_results'], \n",
    "                     w_train=10,w_test=1)\n",
    "\n",
    "ax.set_ylim([0,0.5])"
   ]
  },
  {
   "cell_type": "markdown",
   "metadata": {},
   "source": [
    "- Looks \"about the same\" as weight decay regularization"
   ]
  },
  {
   "cell_type": "code",
   "execution_count": 677,
   "metadata": {},
   "outputs": [
    {
     "data": {
      "text/plain": [
       "(0.9, 1.01)"
      ]
     },
     "execution_count": 677,
     "metadata": {},
     "output_type": "execute_result"
    },
    {
     "data": {
      "image/png": "[encoded data removed]",
      "text/plain": [
       "<Figure size 432x288 with 1 Axes>"
      ]
     },
     "metadata": {
      "needs_background": "light"
     },
     "output_type": "display_data"
    }
   ],
   "source": [
    "fig, ax = plt.subplots()\n",
    "\n",
    "ax = train_test_plot(result,\n",
    "                     results[result]['train_epoch'], results[result]['train_accuracy_results'],\n",
    "                     results[result]['test_epoch'], results[result]['test_accuracy_results'], \n",
    "                     w_train=50,w_test=1)\n",
    "\n",
    "ax.set_ylim([0.9,1.01])"
   ]
  },
  {
   "cell_type": "markdown",
   "metadata": {},
   "source": [
    "- And seems able to again perform comparably to weight decay regularization"
   ]
  },
  {
   "cell_type": "markdown",
   "metadata": {},
   "source": [
    "# Done\n",
    "Except\n",
    "- early stopping\n",
    "Except\n",
    "- we did (implicitly)\n"
   ]
  },
  {
   "cell_type": "markdown",
   "metadata": {},
   "source": [
    "# My usual notes (taken from my own textbook reading)\n",
    "\n",
    "regularization: reduce test error (likely at expense of training error)... \"any modiﬁcation we make to alearning algorithm that is intended to reduce its generalization error but not itstraining error.\"\n",
    "\n",
    "- constraints\n",
    "- extra terms on objective functions\n",
    "- encode certain prior knowledge\n",
    "- express generic preference for a simpler model\n",
    "- to make an underdetermined problem determined\n",
    "- \"ensemble methods\" combine multiple hypotheses\n",
    "- DL is mostly based on regularizing estimators: trades incresed bias for reduced variance\n",
    "\n",
    "Parameter Norm Pentalties\n",
    "\n",
    "$\\tilde J(W, b; X, y) = J(W, b; X, y) + \\alpha \\Omega(W), \\alpha \\geq 0$\n",
    "\n",
    "- in DL weights can be penalized\n",
    "- L1 regularization lets them hit zero, that would basically never happen L2 \n",
    "- \"reprojection\": since applying L1/L2 is equivalent to a constraint on parameter size, just implementing bounds on parameters can acheive this.  And it helps with \"dead units\"\n",
    "    - \"dead units\": units with weights that are essentially zero so nothing comes out of this unit\n",
    "        - using reprojection (forcing parameter value constraints to be respected) rather than shrinkage could be better since it doesn't actually specifically encourage weights pushed towards 0.\n",
    "     \n",
    "Data Augmentation:\n",
    "\n",
    "- *If* $x \\mapsto y \\iff f(x) \\mapsto y$, then $f(x)$ makes new data (in a classification context\n",
    "    - but you need to have $f$... think, e.g., \"mirror image\", or \"a little random noise\"\n",
    "    \n",
    "Noise:\n",
    "- Bayesians would have weights be unknown random variables with distributions \n",
    "    - stochastically this can be implemented practically by allowing noise (i.e., this distributional uncertainty) to be added to weights\n",
    "    \n",
    "- Errors in outcome labels can be addressed by using soft probabilities which include errors $1-\\epsilon$ and $\\frac{\\epsilon}{k-1}$ for the other k-1 categories\n",
    "\n",
    "Semi-Supervised Learning:\n",
    "- An unsupervised specification can \"express a prior belief\" (i.e., influence the form taken by) the supervised specification solution\n",
    "    - I.e., $P(X,Y)$, $P(X)$ and $P(Y|X)$ have shared and overlapping parameters, so\n",
    "        - unlabeled data can be considered using $P(X)$ \n",
    "        - labeled data can be considered using $P(X,Y)$\n",
    "        - and if these are considered together (i.e., the cross-entropies of these are used in the same loss function)\n",
    "            - $-log P(X) -log P(Y|X)$ \n",
    "            - $-log P(Y,X) -log P(Y|X)$ \n",
    "        - then $P(X)$ and $P(X,Y)$ (respectively) can influence the final form taken by $P(Y|X)$\n",
    "    \n",
    "Multi-Task Learning:\n",
    "- regularize an underlying representation to be effective for multiple output tasks\n",
    "\n",
    "Early Stopping:\n",
    "- simplest form of regularization\n",
    "    - \"efficient hyperparameter selection\"\n",
    "    - controls \"the effective capacity\" of the model\n",
    "    - can be seen as a monitored form of *weight decay* (L2 regularization)\n",
    "\n",
    "Parameter Dependence:\n",
    "- parameters should be close to each other: $\\alpha||W_1 - W_2||$s\n",
    "- force them to be equal: parameter sharing\n",
    "    - CNNs\n",
    "    \n",
    "Sparse Representation or Representational regularization:\n",
    "\n",
    "$\\tilde J(\\theta; X, y) = J(\\theta; X, y) + \\alpha \\Omega(h), \\alpha \\geq 0$, where $h$ is the activations\n",
    "- E.g., the average activation for a node across a given batch of data might be targetted at \"1%\": $\\frac{1}{m}\n",
    "- $\\Omega$ as L1, Student t prior, KL divergence penalties can all acheive this.\n",
    " \\sum_i h_j^{(i)} \\approx 0.01$\n",
    "- also can use orthogonal matching pursuit: $argmin \\underset{h, ||h||_0<k}{||x - Wh||^2}$ (OMP-$k$) where $k$ indicates number of non-zero entries in $h$.\n",
    "\n",
    "Bagging, and other Ensemble Methods:\n",
    "- provides Model Averaging\n",
    "- averaged uncorrelated predictions reduce error -- there's a formula for how much reduction that you should be familiar with\n",
    "- averaging stabilizes things -- provides regularization\n",
    "    - boosting on the other hand is an ensemble method that's not meant provide regularization\n",
    "        - boosting is meant to increase capacity\n",
    "        \n",
    "Dropout:\n",
    "- \"To a ﬁrst approximation,dropout can be thought of as a method of making bagging practical for ensembles of very many large neural networks\"\n",
    "    - \"In the case of bagging, the models are all independent. In the case of dropout, the models share parameters, with each model inheriting a diﬀerent subset of parameters from the parent neural network.\"\n",
    "- \"Dropout provides an inexpensive approximation to training and evaluating a bagged ensemble of exponentially manyneural networks\"\n",
    "- \"dropout trains the ensemble consisting of all subnetworks that can be formed by removing nonoutput units from an underlying base network\"\n",
    "- \"Typically, an input unit is included with probability 0.8, and a hidden unit is included with probability 0.5\"\n",
    "- \"weight scaling inference rule\": multiply output by expected value of mask (0.5 above)\n",
    "    - empirically this can work very well, though it's not exaxt becaues of the non-linearities... it's an approximation that works well.\n",
    "    \n",
    "- Easy to apply\n",
    "- But it weakens the model, so often requires a more complex model on which to apply regularization in order to get good benefit\n",
    "- May not be so useful when there's a lot of data already\n",
    "\n",
    "- this approach to bagging offers benefits beyond \"averaging regularization\"... it forces features to be robust in different contexts\n",
    "- \"Destroying extracted features rather than original values allows the destruction process to make use of all the knowledge about the input distribution that the model has acquired so far\"\n",
    "\n",
    "- important to note that noise is multiplicative\n",
    "- batch normalization (discussed more in the optimization chapter) can also add additive AND multiplicative noise, and so can also add some regularization benefit\n",
    "\n",
    "Adversarial Training:\n",
    "- Can you find examples that seem to not work?  If so, include these in your training!\n",
    "- This serves to enforce a local constancy prior\n",
    "\n",
    "Manifold Hypothesis:\n",
    "\n",
    "- tangent distance algorithm:  \"nonparametric nearest neighbor algorithm in which the metric used is ... derived from knowledge of the manifolds near which probability concentrates.\"\n",
    "- assumes \"examples on the same manifold share the same category\"\n",
    "    - \"uses, as nearest neighbor distance between points x1 and x2, the distance between the manifolds M1 and M2 to which they respectively belong\"\n",
    "        - constructed/approxmately calculated by distances between tangents approximating manifolds\n",
    "    \n",
    "- tangent prop algorithm: \n",
    "    - penalize lack of orthogonality of \"direction\" (i.e., gradient) of decision function $\\nabla f$ relative to pre-computed manifold tangents $v^{(i)}$\n",
    "    - very related to performing data augmentation in the direction of manifolds, but data augmentation seems to have some advantages over this because the gradient approach is (a) infinitesimal, and (b) ReLU gradients don't shrink unless they get turned off or have shrunken weights... having a penalty that wants orthogonal OR SMALL gradients could mess with this.\n",
    "    - also related to double backprop (regularizing the Jacobian to be small) and adversarial training (the data augmentation version of double backprop) i.e., making sure small pertubations of data are still classified the same as their original value\n",
    "    \n",
    "- manifold tangent classiﬁer:\n",
    "    - avoid needing preknowledge of manifold tangents:\n",
    "    1. \"use an autoencoder to learn the manifold structure by unsupervised learning\"\n",
    "    2. \"use these tangents to regularize a neural net classiﬁeras in tangent prop\"\n"
   ]
  },
  {
   "cell_type": "markdown",
   "metadata": {},
   "source": [
    "A few other interesting pointers to take note of from the reading:\n",
    "- Instead of \"Frobenius norm of the entire weight matrix\", \"constraining the norm of each column of the weight matrix\" \"prevents any one hidden unit from having very large weights\"\n",
    "    - \"In practice, column norm limitation is always implemented as an explicit constraint with reprojection\" with \"KKT multipliers\" \"dynamically updated separately to make each hidden unit obey the constraint\"\n",
    "\n",
    "- $X^TX$ may not be invertible, but $X^TX + \\alpha I$ is\n",
    "- The Moore-Penrose pseudoinverse $\\underset{\\alpha \\rightarrow 0}{\\lim} (X^TX + \\alpha I)^{-1}X^T$ can be seen to be using this trick!\n",
    "- Data augmentation alone might make a certain algorithm outperform another when in fact it's the data augmentation itself which is providing the gains...\n",
    "- An interesting regularization term includes $\\nabla W$ and thereby encourages $W$ in \"flat\" regions (where the gradient is closer to 0)\n",
    "\n",
    "- NN Ensembles can be created in in different ways besides dropout: multiplying activations by $N(1,I)$ \"automatically implements approximate inference in the ensemble, without needing any weight scaling\": i.e., being Bayesian, and then making expected value predictions of the distributions of the parameters"
   ]
  },
  {
   "cell_type": "code",
   "execution_count": null,
   "metadata": {},
   "outputs": [],
   "source": []
  }
 ],
 "metadata": {
  "kernelspec": {
   "display_name": "Python 3",
   "language": "python",
   "name": "python3"
  },
  "language_info": {
   "codemirror_mode": {
    "name": "ipython",
    "version": 3
   },
   "file_extension": ".py",
   "mimetype": "text/x-python",
   "name": "python",
   "nbconvert_exporter": "python",
   "pygments_lexer": "ipython3",
   "version": "3.8.5"
  }
 },
 "nbformat": 4,
 "nbformat_minor": 4
}
