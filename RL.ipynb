{
 "cells": [
  {
   "cell_type": "markdown",
   "metadata": {},
   "source": [
    "# How Can We Train Intelligent Agents?\n",
    "\n",
    "Let's anchor ourselves in the performance scale from Prof. Nguyen's video:"
   ]
  },
  {
   "cell_type": "markdown",
   "metadata": {},
   "source": [
    "\n",
    "![](range.png)"
   ]
  },
  {
   "cell_type": "markdown",
   "metadata": {},
   "source": [
    "# Evolutionary Algorithm\n",
    "- Gradient Free\n",
    "\n",
    "### Greatest Sampling Requirements\n",
    "- Approximate Exhaustive Search\n",
    "\n"
   ]
  },
  {
   "cell_type": "markdown",
   "metadata": {},
   "source": [
    "![](https://learning.oreilly.com/library/view/hands-on-machine-learning/9781492032632/assets/mls2_1803.png)"
   ]
  },
  {
   "cell_type": "markdown",
   "metadata": {},
   "source": [
    "![](range.png)"
   ]
  },
  {
   "cell_type": "markdown",
   "metadata": {},
   "source": [
    "# RL - policy gradients (PG)\n",
    "- algorithm focused *on-policy* parameters\n",
    "\n",
    "### Great Sampling Requirements\n",
    "- sampling inefficient: \"needs to explore the game for a very long time before it can make significant progress\"\n",
    "- Ideas for improved speed \n",
    "    - **Initialize to a decent policy**\n",
    "        - \"if you already have a reasonably good policy (e.g., hardcoded) ... train the neural network to imitate it before using policy gradients\"\n",
    "    - **Make rewards less sparse**\n",
    "        - CartPole-v1: \"add negative rewards proportional to the pole’s angle [to] make the rewards much less sparse and speed up training\"\n",
    "\n",
    "## OpenAI Gym"
   ]
  },
  {
   "cell_type": "code",
   "execution_count": 462,
   "metadata": {},
   "outputs": [],
   "source": [
    "# `conda install -c conda-forge gym`\n",
    "import gym\n"
   ]
  },
  {
   "cell_type": "markdown",
   "metadata": {},
   "source": [
    "- Hands-On ML textbook has great chapters walking through different topics (such as RL)\n",
    "    - (if you haven't already seem some of it)\n",
    "    - I'm adapting much of that material here"
   ]
  },
  {
   "cell_type": "code",
   "execution_count": 472,
   "metadata": {},
   "outputs": [
    {
     "data": {
      "text/plain": [
       "array([ 0.0402237 ,  0.0360499 ,  0.02634094, -0.0173531 ])"
      ]
     },
     "execution_count": 472,
     "metadata": {},
     "output_type": "execute_result"
    }
   ],
   "source": [
    "# from Hands-On ML book...\n",
    "\n",
    "# if you're rendering with `env.render()` like below\n",
    "# close before starting new env; otherwise, not needed\n",
    "env.close()\n",
    "env = gym.make(\"CartPole-v1\")\n",
    "\n",
    "obs = env.reset()\n",
    "obs\n"
   ]
  },
  {
   "cell_type": "markdown",
   "metadata": {},
   "source": [
    "*Environment `obs` contains the following:*\n",
    "1. horizontal position (0.0 = center)\n",
    "2. velocity (positive means right)\n",
    "3. angle of the pole (0.0 = vertical)\n",
    "4. angular velocity (positive means right)\n",
    "\n",
    "*Actions we can take:*\n",
    "\n",
    "0. Left\n",
    "1. Right"
   ]
  },
  {
   "cell_type": "code",
   "execution_count": 468,
   "metadata": {},
   "outputs": [
    {
     "data": {
      "text/plain": [
       "Discrete(2)"
      ]
     },
     "execution_count": 468,
     "metadata": {},
     "output_type": "execute_result"
    }
   ],
   "source": [
    "# left/right: 0/1\n",
    "env.action_space\n"
   ]
  },
  {
   "cell_type": "markdown",
   "metadata": {},
   "source": [
    "- Sweet video game quality graphics available with `env.render()`\n",
    "    - **Make sure you CLOSE THE WINDOW WITH `env.close()`**\n",
    "        - *or the window won't close until the kernel restarts/dies*\n",
    "\n",
    "`env.close()` only closes the window, not the \"environment session\""
   ]
  },
  {
   "cell_type": "code",
   "execution_count": 473,
   "metadata": {},
   "outputs": [
    {
     "data": {
      "text/plain": [
       "True"
      ]
     },
     "execution_count": 473,
     "metadata": {},
     "output_type": "execute_result"
    }
   ],
   "source": [
    "env.render()\n",
    "#env.close()"
   ]
  },
  {
   "cell_type": "markdown",
   "metadata": {},
   "source": [
    "### Let's play! \n",
    "- just run this a few times!"
   ]
  },
  {
   "cell_type": "code",
   "execution_count": 527,
   "metadata": {},
   "outputs": [
    {
     "data": {
      "text/plain": [
       "True"
      ]
     },
     "execution_count": 527,
     "metadata": {},
     "output_type": "execute_result"
    }
   ],
   "source": [
    "action = 1 # accelerate right\n",
    "obs, reward, done, info = env.step(action)\n",
    "obs\n",
    "env.render()\n"
   ]
  },
  {
   "cell_type": "markdown",
   "metadata": {},
   "source": [
    "- Game ends a little early, I would say, sadly...\n",
    "    - Or maybe it closes once you're past the point of \"no return\" and can't save it?"
   ]
  },
  {
   "cell_type": "code",
   "execution_count": 528,
   "metadata": {},
   "outputs": [
    {
     "data": {
      "text/plain": [
       "(0.0, True, {})"
      ]
     },
     "execution_count": 528,
     "metadata": {},
     "output_type": "execute_result"
    }
   ],
   "source": [
    "(reward, done, info)"
   ]
  },
  {
   "cell_type": "markdown",
   "metadata": {},
   "source": [
    "- Close window with `env.close()` when you're done \n",
    "- BEFORE making new `env = gym.make(\"CartPole-v1\")`\n",
    "    - or you'll lose your pointer to the window\n",
    "    - and won't be able to close it without a kernel restart/shutdown\n",
    "  \n",
    "  \n",
    "`env.close()` only closes the window, not the \"environment session\"\n",
    "    "
   ]
  },
  {
   "cell_type": "code",
   "execution_count": 529,
   "metadata": {},
   "outputs": [],
   "source": [
    "env.close()"
   ]
  },
  {
   "cell_type": "markdown",
   "metadata": {},
   "source": [
    "### First Policy!\n",
    "- go in the direction to poll is tipping (to save it!)"
   ]
  },
  {
   "cell_type": "code",
   "execution_count": 530,
   "metadata": {},
   "outputs": [],
   "source": [
    "def basic_policy(obs):\n",
    "    \n",
    "    '''go in the direction to poll is tipping (to save it!)'''\n",
    "    \n",
    "    angle = obs[2]\n",
    "    \n",
    "    return 0 if angle < 0 else 1\n"
   ]
  },
  {
   "cell_type": "markdown",
   "metadata": {},
   "source": [
    "- now let's run our agent a bunch of times to see how it does!"
   ]
  },
  {
   "cell_type": "code",
   "execution_count": 533,
   "metadata": {},
   "outputs": [
    {
     "ename": "KeyboardInterrupt",
     "evalue": "",
     "output_type": "error",
     "traceback": [
      "\u001b[0;31m---------------------------------------------------------------------------\u001b[0m",
      "\u001b[0;31mKeyboardInterrupt\u001b[0m                         Traceback (most recent call last)",
      "\u001b[0;32m<ipython-input-533-32dd2ad5f57a>\u001b[0m in \u001b[0;36m<module>\u001b[0;34m\u001b[0m\n\u001b[1;32m     14\u001b[0m         \u001b[0;31m# https://github.com/ageron/handson-ml2/blob/master/18_reinforcement_learning.ipynb\u001b[0m\u001b[0;34m\u001b[0m\u001b[0;34m\u001b[0m\u001b[0;34m\u001b[0m\u001b[0m\n\u001b[1;32m     15\u001b[0m         \u001b[0msleep\u001b[0m\u001b[0;34m(\u001b[0m\u001b[0;36m.01\u001b[0m\u001b[0;34m)\u001b[0m\u001b[0;34m\u001b[0m\u001b[0;34m\u001b[0m\u001b[0m\n\u001b[0;32m---> 16\u001b[0;31m         \u001b[0menv\u001b[0m\u001b[0;34m.\u001b[0m\u001b[0mrender\u001b[0m\u001b[0;34m(\u001b[0m\u001b[0;34m)\u001b[0m\u001b[0;34m\u001b[0m\u001b[0;34m\u001b[0m\u001b[0m\n\u001b[0m\u001b[1;32m     17\u001b[0m \u001b[0;34m\u001b[0m\u001b[0m\n\u001b[1;32m     18\u001b[0m         \u001b[0;31m# let's let the game play all the way out\u001b[0m\u001b[0;34m\u001b[0m\u001b[0;34m\u001b[0m\u001b[0;34m\u001b[0m\u001b[0m\n",
      "\u001b[0;32m~/opt/anaconda3/envs/deep_learning_6018/lib/python3.8/site-packages/gym/core.py\u001b[0m in \u001b[0;36mrender\u001b[0;34m(self, mode, **kwargs)\u001b[0m\n\u001b[1;32m    238\u001b[0m \u001b[0;34m\u001b[0m\u001b[0m\n\u001b[1;32m    239\u001b[0m     \u001b[0;32mdef\u001b[0m \u001b[0mrender\u001b[0m\u001b[0;34m(\u001b[0m\u001b[0mself\u001b[0m\u001b[0;34m,\u001b[0m \u001b[0mmode\u001b[0m\u001b[0;34m=\u001b[0m\u001b[0;34m'human'\u001b[0m\u001b[0;34m,\u001b[0m \u001b[0;34m**\u001b[0m\u001b[0mkwargs\u001b[0m\u001b[0;34m)\u001b[0m\u001b[0;34m:\u001b[0m\u001b[0;34m\u001b[0m\u001b[0;34m\u001b[0m\u001b[0m\n\u001b[0;32m--> 240\u001b[0;31m         \u001b[0;32mreturn\u001b[0m \u001b[0mself\u001b[0m\u001b[0;34m.\u001b[0m\u001b[0menv\u001b[0m\u001b[0;34m.\u001b[0m\u001b[0mrender\u001b[0m\u001b[0;34m(\u001b[0m\u001b[0mmode\u001b[0m\u001b[0;34m,\u001b[0m \u001b[0;34m**\u001b[0m\u001b[0mkwargs\u001b[0m\u001b[0;34m)\u001b[0m\u001b[0;34m\u001b[0m\u001b[0;34m\u001b[0m\u001b[0m\n\u001b[0m\u001b[1;32m    241\u001b[0m \u001b[0;34m\u001b[0m\u001b[0m\n\u001b[1;32m    242\u001b[0m     \u001b[0;32mdef\u001b[0m \u001b[0mclose\u001b[0m\u001b[0;34m(\u001b[0m\u001b[0mself\u001b[0m\u001b[0;34m)\u001b[0m\u001b[0;34m:\u001b[0m\u001b[0;34m\u001b[0m\u001b[0;34m\u001b[0m\u001b[0m\n",
      "\u001b[0;32m~/opt/anaconda3/envs/deep_learning_6018/lib/python3.8/site-packages/gym/envs/classic_control/cartpole.py\u001b[0m in \u001b[0;36mrender\u001b[0;34m(self, mode)\u001b[0m\n\u001b[1;32m    211\u001b[0m         \u001b[0mself\u001b[0m\u001b[0;34m.\u001b[0m\u001b[0mpoletrans\u001b[0m\u001b[0;34m.\u001b[0m\u001b[0mset_rotation\u001b[0m\u001b[0;34m(\u001b[0m\u001b[0;34m-\u001b[0m\u001b[0mx\u001b[0m\u001b[0;34m[\u001b[0m\u001b[0;36m2\u001b[0m\u001b[0;34m]\u001b[0m\u001b[0;34m)\u001b[0m\u001b[0;34m\u001b[0m\u001b[0;34m\u001b[0m\u001b[0m\n\u001b[1;32m    212\u001b[0m \u001b[0;34m\u001b[0m\u001b[0m\n\u001b[0;32m--> 213\u001b[0;31m         \u001b[0;32mreturn\u001b[0m \u001b[0mself\u001b[0m\u001b[0;34m.\u001b[0m\u001b[0mviewer\u001b[0m\u001b[0;34m.\u001b[0m\u001b[0mrender\u001b[0m\u001b[0;34m(\u001b[0m\u001b[0mreturn_rgb_array\u001b[0m\u001b[0;34m=\u001b[0m\u001b[0mmode\u001b[0m \u001b[0;34m==\u001b[0m \u001b[0;34m'rgb_array'\u001b[0m\u001b[0;34m)\u001b[0m\u001b[0;34m\u001b[0m\u001b[0;34m\u001b[0m\u001b[0m\n\u001b[0m\u001b[1;32m    214\u001b[0m \u001b[0;34m\u001b[0m\u001b[0m\n\u001b[1;32m    215\u001b[0m     \u001b[0;32mdef\u001b[0m \u001b[0mclose\u001b[0m\u001b[0;34m(\u001b[0m\u001b[0mself\u001b[0m\u001b[0;34m)\u001b[0m\u001b[0;34m:\u001b[0m\u001b[0;34m\u001b[0m\u001b[0;34m\u001b[0m\u001b[0m\n",
      "\u001b[0;32m~/opt/anaconda3/envs/deep_learning_6018/lib/python3.8/site-packages/gym/envs/classic_control/rendering.py\u001b[0m in \u001b[0;36mrender\u001b[0;34m(self, return_rgb_array)\u001b[0m\n\u001b[1;32m    108\u001b[0m         \u001b[0mself\u001b[0m\u001b[0;34m.\u001b[0m\u001b[0mtransform\u001b[0m\u001b[0;34m.\u001b[0m\u001b[0menable\u001b[0m\u001b[0;34m(\u001b[0m\u001b[0;34m)\u001b[0m\u001b[0;34m\u001b[0m\u001b[0;34m\u001b[0m\u001b[0m\n\u001b[1;32m    109\u001b[0m         \u001b[0;32mfor\u001b[0m \u001b[0mgeom\u001b[0m \u001b[0;32min\u001b[0m \u001b[0mself\u001b[0m\u001b[0;34m.\u001b[0m\u001b[0mgeoms\u001b[0m\u001b[0;34m:\u001b[0m\u001b[0;34m\u001b[0m\u001b[0;34m\u001b[0m\u001b[0m\n\u001b[0;32m--> 110\u001b[0;31m             \u001b[0mgeom\u001b[0m\u001b[0;34m.\u001b[0m\u001b[0mrender\u001b[0m\u001b[0;34m(\u001b[0m\u001b[0;34m)\u001b[0m\u001b[0;34m\u001b[0m\u001b[0;34m\u001b[0m\u001b[0m\n\u001b[0m\u001b[1;32m    111\u001b[0m         \u001b[0;32mfor\u001b[0m \u001b[0mgeom\u001b[0m \u001b[0;32min\u001b[0m \u001b[0mself\u001b[0m\u001b[0;34m.\u001b[0m\u001b[0monetime_geoms\u001b[0m\u001b[0;34m:\u001b[0m\u001b[0;34m\u001b[0m\u001b[0;34m\u001b[0m\u001b[0m\n\u001b[1;32m    112\u001b[0m             \u001b[0mgeom\u001b[0m\u001b[0;34m.\u001b[0m\u001b[0mrender\u001b[0m\u001b[0;34m(\u001b[0m\u001b[0;34m)\u001b[0m\u001b[0;34m\u001b[0m\u001b[0;34m\u001b[0m\u001b[0m\n",
      "\u001b[0;32m~/opt/anaconda3/envs/deep_learning_6018/lib/python3.8/site-packages/gym/envs/classic_control/rendering.py\u001b[0m in \u001b[0;36mrender\u001b[0;34m(self)\u001b[0m\n\u001b[1;32m    176\u001b[0m         \u001b[0mself\u001b[0m\u001b[0;34m.\u001b[0m\u001b[0mattrs\u001b[0m \u001b[0;34m=\u001b[0m \u001b[0;34m[\u001b[0m\u001b[0mself\u001b[0m\u001b[0;34m.\u001b[0m\u001b[0m_color\u001b[0m\u001b[0;34m]\u001b[0m\u001b[0;34m\u001b[0m\u001b[0;34m\u001b[0m\u001b[0m\n\u001b[1;32m    177\u001b[0m     \u001b[0;32mdef\u001b[0m \u001b[0mrender\u001b[0m\u001b[0;34m(\u001b[0m\u001b[0mself\u001b[0m\u001b[0;34m)\u001b[0m\u001b[0;34m:\u001b[0m\u001b[0;34m\u001b[0m\u001b[0;34m\u001b[0m\u001b[0m\n\u001b[0;32m--> 178\u001b[0;31m         \u001b[0;32mfor\u001b[0m \u001b[0mattr\u001b[0m \u001b[0;32min\u001b[0m \u001b[0mreversed\u001b[0m\u001b[0;34m(\u001b[0m\u001b[0mself\u001b[0m\u001b[0;34m.\u001b[0m\u001b[0mattrs\u001b[0m\u001b[0;34m)\u001b[0m\u001b[0;34m:\u001b[0m\u001b[0;34m\u001b[0m\u001b[0;34m\u001b[0m\u001b[0m\n\u001b[0m\u001b[1;32m    179\u001b[0m             \u001b[0mattr\u001b[0m\u001b[0;34m.\u001b[0m\u001b[0menable\u001b[0m\u001b[0;34m(\u001b[0m\u001b[0;34m)\u001b[0m\u001b[0;34m\u001b[0m\u001b[0;34m\u001b[0m\u001b[0m\n\u001b[1;32m    180\u001b[0m         \u001b[0mself\u001b[0m\u001b[0;34m.\u001b[0m\u001b[0mrender1\u001b[0m\u001b[0;34m(\u001b[0m\u001b[0;34m)\u001b[0m\u001b[0;34m\u001b[0m\u001b[0;34m\u001b[0m\u001b[0m\n",
      "\u001b[0;31mKeyboardInterrupt\u001b[0m: "
     ]
    }
   ],
   "source": [
    "from time import sleep\n",
    "import numpy as np\n",
    "\n",
    "totals = []\n",
    "for episode in range(500):\n",
    "    episode_rewards = 0\n",
    "    obs = env.reset()\n",
    "    \n",
    "    for step in range(200):\n",
    "        action = basic_policy(obs)\n",
    "        obs, reward, done, info = env.step(action)\n",
    "        episode_rewards += reward\n",
    "        # added commented code \n",
    "        # https://github.com/ageron/handson-ml2/blob/master/18_reinforcement_learning.ipynb\n",
    "        sleep(.01)\n",
    "        env.render()\n",
    "        \n",
    "        # let's let the game play all the way out\n",
    "        done = obs[2]<-np.pi/2 or obs[2]>np.pi/2        \n",
    "        if done:\n",
    "            sleep(.1)\n",
    "            break\n",
    "    totals.append(episode_rewards)"
   ]
  },
  {
   "cell_type": "code",
   "execution_count": 532,
   "metadata": {},
   "outputs": [
    {
     "data": {
      "text/plain": [
       "(65.96, 9.376054607349513, 44.0, 97.0)"
      ]
     },
     "execution_count": 532,
     "metadata": {},
     "output_type": "execute_result"
    }
   ],
   "source": [
    "np.mean(totals), np.std(totals), np.min(totals), np.max(totals)"
   ]
  },
  {
   "cell_type": "markdown",
   "metadata": {},
   "source": [
    "### Now let's build a model the predicts L/R according to the `obs` environment\n",
    "- and beat our simple agent above\n",
    "- **But notice: our parameters are set to *make decisions***\n",
    "    - this is why this is an **on-policy** algorithm\n",
    "    - it needs to learn how to react to all environmental conditions\n",
    "    - ***[as opposed to just learning if something is good or bad]***"
   ]
  },
  {
   "cell_type": "code",
   "execution_count": 534,
   "metadata": {},
   "outputs": [
    {
     "data": {
      "image/png": "[encoded data removed]",
      "text/plain": [
       "<IPython.core.display.Image object>"
      ]
     },
     "execution_count": 534,
     "metadata": {},
     "output_type": "execute_result"
    }
   ],
   "source": [
    "import tensorflow as tf\n",
    "from tensorflow import keras\n",
    "\n",
    "n_inputs = 4 # == env.observation_space.shape[0]\n",
    "\n",
    "model = keras.models.Sequential([\n",
    "    keras.layers.Dense(5, activation=\"elu\", input_shape=[n_inputs]),\n",
    "    keras.layers.Dense(1, activation=\"sigmoid\"),\n",
    "])\n",
    "\n",
    "# https://keras.io/api/utils/model_plotting_utils/\n",
    "tf.keras.utils.plot_model(model, show_shapes=True)"
   ]
  },
  {
   "cell_type": "markdown",
   "metadata": {},
   "source": [
    "#### REINFORCE ALGORITHM\n",
    "- remember every move we made\n",
    "- and the gradient \n",
    "    - so we can make those moves more or less likely"
   ]
  },
  {
   "cell_type": "code",
   "execution_count": null,
   "metadata": {},
   "outputs": [],
   "source": [
    "# reworked from book\n",
    "\n",
    "loss_fn = keras.losses.binary_crossentropy\n",
    "\n",
    "def gradient_to_REINFORCE_move(obs, model, loss_fn):  \n",
    "    \n",
    "    '''We move in some direction:\n",
    "    \n",
    "       What's the gradient of the parameters that make\n",
    "       it even MORE likely to move in that direction?\n",
    "       \n",
    "       Later, when we decide if we like the move or not,\n",
    "       we can follow the gradient to REINFORCE the move \n",
    "       or, or the negative of the gradient to dscount it\n",
    "    '''\n",
    "    \n",
    "    with tf.GradientTape() as tape:\n",
    "        \n",
    "        prob_right = model(obs[np.newaxis])\n",
    "        \n",
    "        # what we did: just a chance according to the currently predicted probability\n",
    "        bool_right = tf.random.uniform([1, 1]) < prob_right\n",
    "        action = tf.cast(bool_right, tf.float32)\n",
    "        \n",
    "        # we \"want\" the predicted prob to even better reflect what we did\n",
    "        loss = tf.reduce_mean(loss_fn(action, prob_right))\n",
    "\n",
    "    # so how do the model variables change to make the predicted probs\n",
    "    # better match what we did?  Record these adjustments\n",
    "    grads = tape.gradient(loss, model.trainable_variables)\n",
    "                                     \n",
    "    return action, grads\n",
    "                        \n",
    "                                       \n",
    "def play_one_step_get_AND_gradient_to_REINFORCE_move(env, obs, model, loss_fn):\n",
    "                                           \n",
    "    '''get `obs`; take an action in `env`; record gradients to REINFORCE move'''\n",
    "    \n",
    "    action,grads = gradient_to_REINFORCE_move(obs, model, loss_fn)                                   \n",
    "    obs, reward, done, info = env.step(int(action[0, 0].numpy()))\n",
    "                                       \n",
    "    return obs, reward, done, grads"
   ]
  },
  {
   "cell_type": "markdown",
   "metadata": {},
   "source": [
    "### Play sessions management\n",
    "\n",
    "#### `play_an_episode`\n",
    "1. re-apply `play_one_step_get_AND_gradient_to_REINFORCE_move`\n",
    "    - updating `env` state; recording REINFORCE gradients; and how long we've stayed \"alive\"\n",
    "    - until we hit *done*\n",
    "    - \n",
    "\n",
    "#### `play_multiple_episodes`\n",
    "2. repeat a series of the above *full game* runs\n",
    "    - the `reward` for each game is how long we stayed \"alive\" in that game\n",
    "    "
   ]
  },
  {
   "cell_type": "markdown",
   "metadata": {},
   "source": [
    "#### Sneak Peak\n",
    "\n",
    "Each set of gradients attached to a game with a `reward`\n",
    "- following the gradients \"down\" to reduce \"loss\" makes the predicted probabilities closer to the actions we took\n",
    "- so we should do ths for the \"good\" games\n",
    "- and maybe the opposite for the \"bad\" games"
   ]
  },
  {
   "cell_type": "code",
   "execution_count": 535,
   "metadata": {},
   "outputs": [],
   "source": [
    "# reworked from book\n",
    "\n",
    "def play_an_episode(env, n_max_steps, model, loss_fn):\n",
    "\n",
    "    '''Play moves until game is finished,\n",
    "       and keep the gradient that would \n",
    "       REINFORCE each move, and keep the\n",
    "       rewards measured during the game\n",
    "    '''\n",
    "    \n",
    "    current_rewards = []\n",
    "    current_grads = []\n",
    "    obs = env.reset()\n",
    "    for step in range(n_max_steps):\n",
    "        obs, reward, done, grads =\\\n",
    "        play_one_step_get_AND_gradient_to_REINFORCE_move(env, obs, model, loss_fn)\n",
    "        current_rewards.append(reward)\n",
    "        current_grads.append(grads)\n",
    "        if done:\n",
    "            break\n",
    "            \n",
    "    return current_rewards,current_grads\n",
    "\n",
    "        \n",
    "def play_multiple_episodes(env, n_episodes, n_max_steps, model, loss_fn):\n",
    "\n",
    "    '''Play several games, and collect for each game,\n",
    "       the gradients that would REINFORCE each move\n",
    "       and the measured rewards for each move made\n",
    "    '''\n",
    "\n",
    "    all_rewards = []\n",
    "    all_grads = []\n",
    "    for episode in range(n_episodes):\n",
    "        episode_rewards,episode_grads = play_an_episode(env, n_max_steps, model, loss_fn)\n",
    "        all_rewards.append(episode_rewards)\n",
    "        all_grads.append(episode_grads)\n",
    "        \n",
    "    return all_rewards, all_grads"
   ]
  },
  {
   "cell_type": "markdown",
   "metadata": {},
   "source": [
    "### More Details on `Rewards`\n",
    "- 1 point for each time step\n",
    "- plus discounted \n",
    "    - if we're still alive later, then maybe the earlier moves were even better than we thought!"
   ]
  },
  {
   "cell_type": "code",
   "execution_count": 536,
   "metadata": {},
   "outputs": [
    {
     "data": {
      "text/plain": [
       "array([-22, -40, -50])"
      ]
     },
     "execution_count": 536,
     "metadata": {},
     "output_type": "execute_result"
    }
   ],
   "source": [
    "# *slightly* reworked from book\n",
    "\n",
    "def discount_rewards(rewards, discount_factor):\n",
    "    \n",
    "    '''For each completed game, address the credit assignment \n",
    "       problem by applying the discounted rewards strategy:\n",
    "    '''\n",
    "    \n",
    "    discounted_rewards = np.array(rewards)\n",
    "    # work from the end: multiply by the discount factor and add to the previous step\n",
    "    # in this way we accumulate the power decayed scores through the earlier moves\n",
    "    for step in range(len(rewards)-2, -1, -1):\n",
    "        discounted_rewards[step] += discounted_rewards[step+1] * discount_factor\n",
    "        \n",
    "    return discounted_rewards\n",
    "\n",
    "discount_rewards([10, 0, -50], discount_factor=.8)\n"
   ]
  },
  {
   "cell_type": "code",
   "execution_count": 538,
   "metadata": {},
   "outputs": [
    {
     "data": {
      "text/plain": [
       "-32.0"
      ]
     },
     "execution_count": 538,
     "metadata": {},
     "output_type": "execute_result"
    }
   ],
   "source": [
    "-50*.8*.8"
   ]
  },
  {
   "cell_type": "markdown",
   "metadata": {},
   "source": [
    "#### Good or Bad game?\n",
    "\n",
    "- Just normalize the scores: subtract mean an divide by standard deviation\n",
    "- Above average is REINFORCED (proportionally to how good a game is relatively)\n",
    "    - and we do the opposite for below average (proportionally to how bad a game is relatively)"
   ]
  },
  {
   "cell_type": "code",
   "execution_count": 539,
   "metadata": {},
   "outputs": [
    {
     "data": {
      "text/plain": [
       "[array([ 1.32350128, -0.23017414, -1.09332714])]"
      ]
     },
     "execution_count": 539,
     "metadata": {},
     "output_type": "execute_result"
    }
   ],
   "source": [
    "# reworked from book\n",
    "\n",
    "def normalize_rewards(all_rewards):\n",
    "    \n",
    "    '''Subtract and then divide each reward by \n",
    "       the global mean and standard deviation \n",
    "       of all rewards across all games played\n",
    "    '''\n",
    "\n",
    "    flat_rewards = np.concatenate(all_rewards)\n",
    "    all_rewards_mean = flat_rewards.mean()\n",
    "    all_rewards_std = flat_rewards.std()\n",
    "    return [(single_episode_rewards-all_rewards_mean)/all_rewards_std\n",
    "            for single_episode_rewards in all_rewards]\n",
    "\n",
    "discounted_rewards = discount_rewards([10, 0, -50], discount_factor=0.8)\n",
    "normalize_rewards([discounted_rewards])\n"
   ]
  },
  {
   "cell_type": "markdown",
   "metadata": {},
   "source": [
    "- And here we just put together the `discount_rewards` and `normalize_rewards`\n",
    "    - so we can just call it all at once we've collected all the games"
   ]
  },
  {
   "cell_type": "code",
   "execution_count": 540,
   "metadata": {},
   "outputs": [
    {
     "data": {
      "text/plain": [
       "[array([-0.28435071, -0.86597718, -1.18910299]),\n",
       " array([1.26665318, 1.0727777 ])]"
      ]
     },
     "execution_count": 540,
     "metadata": {},
     "output_type": "execute_result"
    }
   ],
   "source": [
    "# reworked from book\n",
    "\n",
    "def discount_and_normalize_rewards(all_rewards, discount_factor):\n",
    "    \n",
    "    '''Use the functions above to tranform\n",
    "       rewards to discounted rewards and\n",
    "       normalize the discounted rewards\n",
    "    '''\n",
    "    \n",
    "    all_discounted_rewards = [discount_rewards(rewards, discount_factor)\n",
    "                              for rewards in all_rewards]\n",
    "    \n",
    "    return normalize_rewards(all_discounted_rewards)\n",
    "    \n",
    "    \n",
    "discount_and_normalize_rewards([[10, 0, -50], [10, 20]], discount_factor=0.8)\n"
   ]
  },
  {
   "cell_type": "markdown",
   "metadata": {},
   "source": [
    "#### REINFORCE algorithm at work\n",
    "- One \"epoch\" (of which we'll do 150)\n",
    "    1. Play 10 games (i.e., episodes)\n",
    "    2. discount/normalize each actions score; and, relatively update parameters with the associated gradients \n",
    "        - gradients REINFORCE the actions\n",
    "            - so we follow the gradients for actions with \"good\"\n",
    "                - and go in the opposite direction of the gradient for actions with \"bad\" scores\n",
    "        - This is accomplished by using a *weighted average* of each parameters gradients based on the associated *relative* discounted/normalized action scores\n"
   ]
  },
  {
   "cell_type": "code",
   "execution_count": 541,
   "metadata": {
    "scrolled": true
   },
   "outputs": [],
   "source": [
    "# reworked from book\n",
    "\n",
    "optimizer = keras.optimizers.Adam(lr=0.01)\n",
    "\n",
    "n_gradient_updates = 150\n",
    "n_episodes_per_update = 10\n",
    "n_max_actions_per_episodes = 200\n",
    "discount_factor = 0.95\n",
    "\n",
    "for index in range(n_gradient_updates):\n",
    "    \n",
    "    all_rewards, all_grads = play_multiple_episodes(env, n_episodes_per_update, \n",
    "                                                    n_max_actions_per_episodes, \n",
    "                                                    model, loss_fn)\n",
    "    all_final_rewards = discount_and_normalize_rewards(all_rewards, discount_factor)\n",
    "    \n",
    "    # 1. Each move in each game now has a normalized discounted score\n",
    "    # 2. We have the gradient that REINFORCES each move\n",
    "    # 3. We weight each gradient by the move's normalized discounted score\n",
    "    #    - positive scores REINFORCE the move: \n",
    "    #      i.e., the direction of the gradient REINFORCES the move\n",
    "    #    - negative scores SUPRESS the move:\n",
    "    #      i.e., the negative direction of the gradient SUPRESSES the move\n",
    "    # 4. We average the gradients for each `model.trainable_variables`\n",
    "    \n",
    "    # We do it this way because of how we ended\n",
    "    # up storing lists of gradients and scores\n",
    "    trainable_variables_mean_grad = []\n",
    "    for trainable_variables_index in range(len(model.trainable_variables)):\n",
    "        grad_mean = tf.reduce_mean([\n",
    "            \n",
    "        final_reward*all_grads[episode_index][action_index][trainable_variables_index]\n",
    "            \n",
    "        for episode_index,final_rewards in enumerate(all_final_rewards)\n",
    "            for action_index,final_reward in enumerate(final_rewards)\n",
    "            \n",
    "                                    ], axis=0)\n",
    "        \n",
    "        trainable_variables_mean_grad.append(grad_mean)\n",
    "\n",
    "    optimizer.apply_gradients(zip(trainable_variables_mean_grad, \n",
    "                                  model.trainable_variables))"
   ]
  },
  {
   "cell_type": "markdown",
   "metadata": {},
   "source": [
    "- And we've seen this next code below already up above before - just plays/shows the games:"
   ]
  },
  {
   "cell_type": "code",
   "execution_count": 544,
   "metadata": {},
   "outputs": [
    {
     "data": {
      "text/plain": [
       "(197.252, 11.444321561368326, 95.0, 200.0)"
      ]
     },
     "execution_count": 544,
     "metadata": {},
     "output_type": "execute_result"
    }
   ],
   "source": [
    "totals = []\n",
    "for episode in range(500):\n",
    "    episode_rewards = 0\n",
    "    obs = env.reset()\n",
    "    for step in range(200):\n",
    "        action = int(np.random.random() < model(obs[np.newaxis]))\n",
    "        obs, reward, done, info = env.step(action)\n",
    "        episode_rewards += reward\n",
    "        \n",
    "        #sleep(.01)\n",
    "        #env.render()\n",
    "        done = obs[2]<-np.pi/2 or obs[2]>np.pi/2 \n",
    "        if done:\n",
    "            #sleep(.1)\n",
    "            break\n",
    "    totals.append(episode_rewards)\n",
    "    \n",
    "np.mean(totals), np.std(totals), np.min(totals), np.max(totals)    "
   ]
  },
  {
   "cell_type": "code",
   "execution_count": 543,
   "metadata": {},
   "outputs": [],
   "source": [
    "env.close()"
   ]
  },
  {
   "cell_type": "code",
   "execution_count": null,
   "metadata": {},
   "outputs": [],
   "source": [
    "np.mean(totals), np.std(totals), np.min(totals), np.max(totals)    "
   ]
  },
  {
   "cell_type": "markdown",
   "metadata": {},
   "source": [
    "# Q-Learning Algorithm V1\n",
    "\n",
    "- Theoretical/Pedagogical"
   ]
  },
  {
   "cell_type": "markdown",
   "metadata": {},
   "source": [
    "\n",
    "## Markov decision processes (MDPs)\n",
    "### Hands-On ML Textbook Example:\n",
    "\n",
    "![](https://learning.oreilly.com/library/view/hands-on-machine-learning/9781492032632/assets/mls2_1808.png)"
   ]
  },
  {
   "cell_type": "markdown",
   "metadata": {},
   "source": [
    "\n",
    "\n",
    "#### Bellman Optimality Equation\n",
    "\n",
    "\n",
    "\n",
    "$\\underline{\\textbf{FOR EACH } s}$\n",
    "$$\n",
    "\\begin{align*}\n",
    "\\displaystyle \n",
    "\\underbrace{Value^{optimal}(State_s)}_{V^*(s)} = & {} \\sum_{s'} \n",
    "\\underbrace{Pr(State_s\\rightarrow State_{s'}| Action^{optimal})}_{ p_{a}(s\\rightarrow s')} \\,\\times \\left[ \\underbrace{Reward(State_s\\rightarrow State_{s'}| Action^{optimal})}_{$_{a}(s\\rightarrow s')}\n",
    "+  \\underbrace{\\overset{\\huge \\text{FUTURE}}{\\gamma Value^{optimal}(State_{s'})}}_{\\gamma V^*(s')} \\right]\n",
    "\\\\\n",
    "V^*(s) = & {} \\underset{a}{\\max} \\sum_{s'} p_{a}(s\\rightarrow s') \\times \\left[ $_{a}(s\\rightarrow s') \\, + \\gamma V^*(s') \\right]\n",
    "\\end{align*}\n",
    "$$\n",
    "\n",
    "(with discount factor $\\gamma$)\n",
    "\n",
    "#### Value Iteration Algorithm (Dynamic Programming)\n",
    "- Initialize $\\text{\"}Value^{optimal}(State_s)\\text{\"}=0$ for ALL $s$; start at step $k=0$; and iterate:\n",
    "    \n",
    "$\\underline{\\textbf{FOR EACH } s}$\n",
    "\n",
    "$$\n",
    "\\begin{align*}\n",
    "\\displaystyle \n",
    "\\underbrace{\\overset{\\huge \\text{UPDATE}}{\\text{\"}Value^{optimal}(State_s)\\text{\"}}}_{\\text{At STEP } k+1} \\longleftarrow & {} \\sum_{s'} \n",
    "\\underbrace{Pr(State_s\\rightarrow State_{s'}| Action^{optimal})}_{\\text{do you know this?}} \\,\\times \\left[ \\underbrace{Reward(State_s\\rightarrow State_{s'}| Action^{optimal})}_{\\text{do you know this?}}\n",
    "\\, + \\gamma \\cdot \\underbrace{\\overset{\\huge \\text{CURRENT}}{\\text{\"}Value^{optimal}(State_{s'})\\text{\"}}}_{\\text{At STEP } k} \\right]\n",
    "\\end{align*}\n",
    "$$\n",
    "\n",
    "$\\longrightarrow$ Will converge to *true* $Value^{optimal}(State_s) = V^*(s)$ for ALL $s$\n",
    "\n",
    "(by choosing actions with the highest probability of going to the currently best available state)\n",
    "\n",
    "### State-Action Values (Q-values)\n",
    "\n",
    "(...add **ACTIONS** into the tracking mix...)\n",
    "\n",
    "#### Q-Value Iteration Algorithm\n",
    "\n",
    "- Initialize $\\hat Q(State_s, \\text{ACTION}_a)=0$ for ALL $s$; start at step $k=0$; and iterate:\n",
    "    \n",
    "$\\underline{\\textbf{FOR EACH } s \\text{ and } a}$\n",
    "\n",
    "$$\n",
    "\\begin{align*}\n",
    "\\displaystyle \n",
    "\\underbrace{\\overset{\\huge \\text{UPDATE}}{\\hat Q(State_s, \\text{ACTION}_a)}}_{\\text{At STEP } k+1} \\longleftarrow & {} \\sum_{s'} \n",
    "\\underbrace{Pr(State_s\\rightarrow State_{s'}| \\text{ACTION}_a)}_{\\text{do you know this?}} \\,\\times \\left[ \\underbrace{Reward(State_s\\rightarrow State_{s'}| \\text{ACTION}_a)}_{\\text{do you know this?}}\n",
    "\\, + \\gamma \\cdot \\underbrace{\\overset{\\huge \\text{CURRENT}}{\\hat Q(State_{s'}, \\text{ACTION}^{optimal})}}_{\\text{At STEP } k} \\right]\n",
    "\\end{align*}\n",
    "$$\n",
    "\n",
    "$\\longrightarrow$ Will converge to *true* $Q(State_s, \\text{ACTION}_a) = Q(s, a) $ for ALL $s$ and $a$\n",
    "\n",
    "(by trying and updating things for each of the actions available at each state, not just the \"best\")\n"
   ]
  },
  {
   "cell_type": "markdown",
   "metadata": {},
   "source": [
    "\n",
    "## Hands-On ML Textbook Example:\n",
    "\n",
    "![](https://learning.oreilly.com/library/view/hands-on-machine-learning/9781492032632/assets/mls2_1808.png)"
   ]
  },
  {
   "cell_type": "code",
   "execution_count": null,
   "metadata": {},
   "outputs": [],
   "source": [
    "# From the Hands-On ML textook image above\n",
    "\n",
    "# shape=[s, a, s']\n",
    "# to get States:\n",
    "# (s_0,s_1,s_2): transition_probabilities[s]\n",
    "# to get Actions in a State\n",
    "# (s_0:a_0,s_0:a_1,s_0:a_2): transition_probabilities[s_0][a]\n",
    "# to get Move Probabilities for an Action in a State\n",
    "# ( Pr(s_0:a_0->s_0), Pr(s_0:a_0->s_1), Pr(s_0:a_0->s_2) ): transition_probabilities[s_0][a_0][s']\n",
    "\n",
    "transition_probabilities = [[[0.7, 0.3, 0.0], [1.0, 0.0, 0.0], [0.8, 0.2, 0.0]],\n",
    "                            [[0.0, 1.0, 0.0], None,            [0.0, 0.0, 1.0]],\n",
    "                            [ None,           [0.8, 0.1, 0.1], None           ]]\n",
    "# shape=[s, a, s']\n",
    "rewards = [[[+10, 0, 0], [0, 0, 0], [0, 0, 0]],\n",
    "           [[0, 0, 0], [0, 0, 0], [0, 0, -50]],\n",
    "           [[0, 0, 0], [+40, 0, 0], [0, 0, 0]]]\n",
    "\n",
    "possible_actions = [[0, 1, 2], [0, 2], [1]]\n"
   ]
  },
  {
   "cell_type": "code",
   "execution_count": null,
   "metadata": {},
   "outputs": [],
   "source": [
    "# (0) initialize Q-Values to 0 for all possible actions\n",
    "# s X a: Q_values[state, actions\n",
    "Q_values = np.full((3, 3), -np.inf) # -np.inf for impossible actions\n",
    "for state, actions in enumerate(possible_actions):\n",
    "    Q_values[state, actions] = 0.0  \n",
    "\n",
    "Q_values"
   ]
  },
  {
   "cell_type": "code",
   "execution_count": null,
   "metadata": {},
   "outputs": [],
   "source": [
    " # (1) FOR ALL s and a\n",
    "\n",
    "gamma = 0.9 # the discount factor\n",
    "\n",
    "# iteration is \"k\" above\n",
    "for iteration in range(1000):\n",
    "    \n",
    "    # current state\n",
    "    Q_prev = Q_values.copy()\n",
    "    # to be updated with reward and above \"curent\" state\n",
    "    Q_values[~np.isinf(Q_values)] = 0\n",
    "    # try from each possible state\n",
    "    for s in range(3):\n",
    "        # try all available actions at the state\n",
    "        for a in possible_actions[s]:\n",
    "            \n",
    "            Q_values[s, a] = 0\n",
    "            # the states we arrive at with probability `transition_probabilities[s][a][sp]`\n",
    "            for sp in range(3):\n",
    "                Q_values[s, a] += transition_probabilities[s][a][sp] \\\n",
    "                                  * ( rewards[s][a][sp] + gamma*np.max(Q_prev[sp]) )\n",
    "                                     #reward for move     discounted OPTIMAL value at the state just moved to\n",
    "\n",
    "Q_values"
   ]
  },
  {
   "cell_type": "code",
   "execution_count": null,
   "metadata": {},
   "outputs": [],
   "source": [
    "# What should we do in State_1 ?\n",
    "# Action_0 or Action_2 ?\n",
    "\n",
    "Q_values[1]"
   ]
  },
  {
   "cell_type": "markdown",
   "metadata": {},
   "source": [
    "# Q-Learning Algorithm V2\n",
    "\n",
    "- off-policy algorithm\n",
    "    - ε-greedy policy\n",
    "    - Q-Learning using an exploration function\n",
    "\n",
    "\n",
    "### N/A Sampling Requirements\n",
    "\n",
    "- Theoretical/Impractical/Untractable\n",
    "\n",
    "\n",
    "### Unknown MDP Transtion Probabilities\n",
    "- You may take Actions and see Rewards; but\n",
    "    - the results of your actions are (intially) unknown to you\n",
    "\n",
    "#### ~Temporal Difference Learning (TD Learning) Algorithm~ Q-Value Iteration algorithm\n",
    "\n",
    "\n",
    "- Initialize $\\hat Q(State_s, \\text{ACTION}_a)=0$ for ALL $s$; set $k=0$; choose an initial $State_s$; and iterate:\n",
    "    \n",
    "\n",
    "$\\underline{ \\text{Take a } \\overset{*random*}{\\text{ACTION}}_a \\text{ to arrive at the next state } s'}$\n",
    "\n",
    "$$\n",
    "\\begin{align*}\n",
    "\\displaystyle \n",
    "\\underbrace{\\overset{\\huge \\text{UPDATE}}{\\hat Q(State_s, \\overset{*random*}{\\text{ACTION}}_a)}}_{\\text{At STEP } k+1} \\longleftarrow & {} \n",
    "\\; \\left(1-\\overset{\\text{chosen}}{w^{update}_{speed}}\\right)\\cdot \\underbrace{\\overset{\\huge \\text{CURRENT}}{\\hat Q(State_s, \\overset{random}{\\text{ACTION}})}}_{\\text{At STEP } k} \\; +\\\\\n",
    "& {}  \n",
    "\\underbrace{ \\sum_{s'} Pr(State_s\\rightarrow State_{s'}| \\text{ACTION}_a)}_{\\text{Because You Do Not Know This: $\\overset{\\text{chosen}}{w^{update}_{speed}}$}} \\,\\times \\left[ \\underbrace{Reward(State_s\\rightarrow State_{s'}| \\text{ACTION}_a)}_{\\text{Because You Do Not Know This: $r^{observed}$}}\n",
    "\\, + \\gamma \\cdot \\underbrace{\\overset{\\huge \\text{CURRENT}}{\\hat Q(State_{s'}, \\text{ACTION}^{optimal})}}_{\\text{At STEP } k} \\right]\n",
    "\\end{align*}\n",
    "$$\n",
    "\n",
    "which we will thus rewrite as\n",
    "\n",
    "$$\n",
    "\\begin{align*}\n",
    "\\displaystyle \n",
    "\\underbrace{\\overset{\\huge \\text{UPDATE}}{\\hat Q(State_s, \\overset{*random*}{\\text{ACTION}}_a)}}_{\\text{At STEP } k+1} \\longleftarrow & {} \n",
    "\\; \\left(1-\\overset{\\text{chosen}}{w^{update}_{speed}}\\right)\\cdot \\underbrace{\\overset{\\huge \\text{CURRENT}}{\\hat Q(State_s, \\overset{random}{\\text{ACTION}})}}_{\\text{At STEP } k} \\; + \n",
    "\\overset{\\text{chosen}}{w^{update}_{speed}} \\left[ r^{observed}\n",
    "\\, + \\gamma \\cdot \\underbrace{\\overset{\\huge \\text{CURRENT}}{\\hat Q(State_{s'}, \\text{ACTION}^{optimal})}}_{\\text{At STEP } k} \\right]\n",
    "\\end{align*}\n",
    "$$\n",
    "\n",
    "\n",
    "\n",
    "\n",
    "$\\longrightarrow \\underline{\\text{If } \\overset{\\text{chosen}}{w^{update}_{speed}} \\text{ is sufficiently gradually DECREASED }}$ then this\n",
    "will converge to *true* $Q(State_s, \\text{ACTION}_a) = Q(s, a) $ for ALL $s$ and $a$\n",
    "\n",
    "\n",
    "\n"
   ]
  },
  {
   "cell_type": "code",
   "execution_count": null,
   "metadata": {},
   "outputs": [],
   "source": [
    "# reworked from book\n",
    "\n",
    "def move(state, action):\n",
    "    \n",
    "    '''\"Randomly\" pick a new state to move to\n",
    "        according to the transition probabilites \n",
    "        and return the new state and move reward\n",
    "    '''\n",
    "    \n",
    "    probas = transition_probabilities[state][action]\n",
    "    next_state = np.random.choice([0, 1, 2], p=probas)\n",
    "    reward = rewards[state][action][next_state]\n",
    "    \n",
    "    return next_state, reward\n"
   ]
  },
  {
   "cell_type": "code",
   "execution_count": null,
   "metadata": {},
   "outputs": [],
   "source": [
    "# reworked from book\n",
    "\n",
    "def exploration_policy(state):\n",
    "    \n",
    "    '''Choose between available actions \n",
    "       randomly with equal probability\n",
    "    '''\n",
    "    \n",
    "    return np.random.choice(possible_actions[state])\n"
   ]
  },
  {
   "cell_type": "code",
   "execution_count": null,
   "metadata": {},
   "outputs": [],
   "source": [
    "# reworked from book\n",
    "\n",
    "# (0) initialize Q-Values to 0 for all possible actions\n",
    "\n",
    "Q_values_known_MPD = Q_values.copy()\n",
    "\n",
    "# s X a: Q_values[state, actions\n",
    "Q_values = np.full((3, 3), -np.inf) # -np.inf for impossible actions\n",
    "for state, actions in enumerate(possible_actions):\n",
    "    Q_values[state, actions] = 0.0  \n",
    "\n",
    "    \n",
    "# (1) initialize the tuning parameters \n",
    "\n",
    "alpha0 = 0.05 # initial learning rate\n",
    "decay = 0.005 # learning rate decay\n",
    "gamma = 0.90 # discount factor\n",
    "\n",
    "    \n",
    "# (2) Play the game!\n",
    "\n",
    "state = 0 # initial state\n",
    "for iteration in range(100000):\n",
    "    \n",
    "    # take an action\n",
    "    action = exploration_policy(state)\n",
    "    next_state, reward = move(state, action)\n",
    "    \n",
    "    # get the best Q-Value of the next_state\n",
    "    next_state_current_optimal_Q = np.max(Q_values[next_state])\n",
    "    \n",
    "    # decay chosen update speed (here noted as alpha)\n",
    "    alpha = alpha0 / (1 + iteration * decay)\n",
    "    # and reweight the Q-value towards the update\n",
    "    Q_values[state, action] *= (1 - alpha)\n",
    "    Q_values[state, action] += alpha * (reward + gamma*next_state_current_optimal_Q)\n",
    "    \n",
    "    # and get ready to start again!\n",
    "    state = next_state\n",
    "    \n",
    "Q_values    \n"
   ]
  },
  {
   "cell_type": "code",
   "execution_count": null,
   "metadata": {},
   "outputs": [],
   "source": [
    "Q_values_known_MPD"
   ]
  },
  {
   "cell_type": "markdown",
   "metadata": {},
   "source": [
    "![](https://learning.oreilly.com/library/view/hands-on-machine-learning/9781492032632/assets/mls2_1809.png)"
   ]
  },
  {
   "cell_type": "markdown",
   "metadata": {},
   "source": [
    "# (Approximate) Q-Learning Algorithm:  V3\n",
    "## *a Deep Q-Network (DQN) approximatng Q-Learning is called Deep Q-Learning*\n",
    "\n",
    "- off-policy algorithm\n",
    "    - ε-greedy policy\n",
    "    - Q-Learning using an exploration (emphasis) function\n",
    "\n",
    "### Moderate Sampling Requirements\n",
    "- catastrophic forgetting\n",
    "    - replay buffer to decorrelate actions\n",
    "    \n"
   ]
  },
  {
   "cell_type": "code",
   "execution_count": 273,
   "metadata": {},
   "outputs": [],
   "source": [
    "from collections import deque\n",
    "\n",
    "replay_buffer = deque(maxlen=2000)"
   ]
  },
  {
   "cell_type": "code",
   "execution_count": 272,
   "metadata": {},
   "outputs": [
    {
     "data": {
      "image/png": "[encoded data removed]",
      "text/plain": [
       "<IPython.core.display.Image object>"
      ]
     },
     "execution_count": 272,
     "metadata": {},
     "output_type": "execute_result"
    }
   ],
   "source": [
    "env = gym.make(\"CartPole-v0\")\n",
    "input_shape = [4] # == env.observation_space.shape\n",
    "n_outputs = 2 # == env.action_space.n\n",
    "\n",
    "model = keras.models.Sequential([\n",
    "    keras.layers.Dense(32, activation=\"elu\", input_shape=input_shape),\n",
    "    keras.layers.Dense(32, activation=\"elu\"),\n",
    "    # this is not a sigmoid... it's predicting Q(S,A) NOT pr(A) [although it kinda is...]\n",
    "    keras.layers.Dense(n_outputs)\n",
    "])\n",
    "\n",
    "# https://keras.io/api/utils/model_plotting_utils/\n",
    "tf.keras.utils.plot_model(model, show_shapes=True)"
   ]
  },
  {
   "cell_type": "code",
   "execution_count": 279,
   "metadata": {},
   "outputs": [],
   "source": [
    "# taken from book\n",
    "\n",
    "def epsilon_greedy_policy(state, epsilon=0):\n",
    "    \n",
    "    '''Take the move that currently looks the best \n",
    "       with probability (1-epsilon) or uniformly \n",
    "       randomly with probability epsilon\n",
    "    '''\n",
    "    \n",
    "    if np.random.rand() < epsilon:\n",
    "        return np.random.randint(n_outputs)\n",
    "    else:\n",
    "        Q_values = model.predict(state[np.newaxis])\n",
    "        return np.argmax(Q_values[0])\n",
    "    "
   ]
  },
  {
   "cell_type": "code",
   "execution_count": 280,
   "metadata": {},
   "outputs": [],
   "source": [
    "# taken from book\n",
    "\n",
    "def play_one_step(env, state, epsilon):\n",
    "    \n",
    "    '''Store Q-Value data: state and action\n",
    "       and the reward, next state, and done\n",
    "    '''\n",
    "    \n",
    "    action = epsilon_greedy_policy(state, epsilon)\n",
    "    next_state, reward, done, info = env.step(action)\n",
    "    \n",
    "    replay_buffer.append((state, action, reward, next_state, done))\n",
    "    return next_state, reward, done, info"
   ]
  },
  {
   "cell_type": "code",
   "execution_count": 281,
   "metadata": {},
   "outputs": [],
   "source": [
    "# taken from book\n",
    "\n",
    "def sample_experiences(batch_size):\n",
    "    \n",
    "    '''Return batch of randomly \n",
    "       selected \"game instances\"\n",
    "    '''\n",
    "    \n",
    "    indices = np.random.randint(len(replay_buffer), size=batch_size)\n",
    "    batch = [replay_buffer[index] for index in indices]\n",
    "    \n",
    "    states, actions, rewards, next_states, dones = \\\n",
    "    [ np.array([experience[field_index] for experience in batch]) for field_index in range(5)]\n",
    "    \n",
    "    return states, actions, rewards, next_states, dones\n"
   ]
  },
  {
   "cell_type": "markdown",
   "metadata": {},
   "source": [
    "$\\underline{\\textbf{STARTING AT STATE } s \\text{ and following and $\\epsilon$-greedy actions }  a}$\n",
    "\n",
    "$$\n",
    "\\begin{align*}\n",
    "\\displaystyle \n",
    "\\underbrace{\\overset{\\huge \\text{UPDATE}}{\\hat Q(State_s, \\text{ACTION}_a)}}_{\\text{At STEP } k+1} \\longleftarrow & {}\n",
    "\\underbrace{ \\sum_{s'} Pr(State_s\\rightarrow State_{s'}| \\text{ACTION}_a)}_{\\epsilon-\\text{greedy is mostly picking ACTION}^{optimal} }  \\,\\times \\left[ \\underbrace{Reward(State_s\\rightarrow State_{s'}| \\text{ACTION}_a)}_{{r^{observed}}}\n",
    "\\, + \\gamma \\cdot \\underbrace{\\overset{\\huge \\text{CURRENT}}{\\hat Q(State_{s'}, \\text{ACTION}^{optimal})}}_{\\text{DNN estimate/prediction at STEP } k} \\right]\n",
    "\\\\\\text{i.e.} &\\\\\n",
    "\\underbrace{\\overset{\\huge \\text{UPDATE}}{\\hat Q(State_s, \\text{ACTION}^{optimal})}}_{\\text{At STEP } k+1} \\longleftarrow & {}\n",
    "\\underbrace{ 1}_{(State_s\\rightarrow State_{s'}| \\text{ACTION}^{optimal})}^{\\text{The next state in our playthrough}}  \\,\\times \\left[ \n",
    "r^{observed} + \\gamma \\cdot \\underbrace{\\overset{\\huge \\text{CURRENT}}{\\hat Q(State_{s'}, \\text{ACTION}^{optimal})}}_{\\text{DNN estimate/prediction at STEP } k} \\right]\n",
    "\\end{align*}\n",
    "$$\n"
   ]
  },
  {
   "cell_type": "code",
   "execution_count": 282,
   "metadata": {},
   "outputs": [],
   "source": [
    "batch_size = 32\n",
    "discount_factor = 0.95\n",
    "optimizer = keras.optimizers.Adam(lr=1e-3)\n",
    "loss_fn = keras.losses.mean_squared_error\n",
    "\n",
    "def training_step(batch_size):\n",
    "    \n",
    "    '''(1) Show the DNN network a batch of random game instances\n",
    "       (2) Each instance has state, action, reward, and next_state\n",
    "       (3) Predict Q(next_state, ALL_ACTIONS) and get the update target (from the optimal of those), i.e.,\n",
    "           Q(next_state, Action^optmal) = max Q(next_state, ALL_ACTIONS)\n",
    "    '''\n",
    "    \n",
    "    experiences = sample_experiences(batch_size)\n",
    "    states, actions, rewards, next_states, dones = experiences\n",
    "    \n",
    "    next_Q_values = model.predict(next_states)\n",
    "    max_next_Q_values = np.max(next_Q_values, axis=1)\n",
    "    \n",
    "    target_Q_values = (rewards + (1-dones)*discount_factor*max_next_Q_values)\n",
    "    target_Q_values = target_Q_values.reshape(-1, 1)\n",
    "    \n",
    "    with tf.GradientTape() as tape:\n",
    "        \n",
    "        # which actions did we take?\n",
    "        mask = tf.one_hot(actions, n_outputs)\n",
    "        model_predicted_Q_values = model(states)\n",
    "        # use the prediction from the action we took (mask)\n",
    "        used_actions_model_predicted_Q_values = tf.reduce_sum(model_predicted_Q_values*mask, axis=1, keepdims=True)\n",
    "        loss = tf.reduce_mean(loss_fn(used_actions_model_predicted_Q_values, target_Q_values))\n",
    "        \n",
    "    grads = tape.gradient(loss, model.trainable_variables)\n",
    "    optimizer.apply_gradients(zip(grads, model.trainable_variables))"
   ]
  },
  {
   "cell_type": "code",
   "execution_count": 283,
   "metadata": {},
   "outputs": [],
   "source": [
    "# play a game (600 times)\n",
    "for episode in range(600):\n",
    "    \n",
    "    obs = env.reset()\n",
    "    # one game max 200 steps; or \"done\"\n",
    "    for step in range(200):\n",
    "        \n",
    "        # decay epsilon (passed to `epsilon_greedy_policy(...)`)\n",
    "        epsilon = max(1 - episode/500, 0.01)\n",
    "        # deque is filled up\n",
    "        obs, reward, done, info = play_one_step(env, obs, epsilon)\n",
    "        if done:\n",
    "            break\n",
    "            \n",
    "    # make sure we've initialized our \"replay buffer\"\n",
    "    if episode > 50:\n",
    "        training_step(batch_size)"
   ]
  },
  {
   "cell_type": "markdown",
   "metadata": {},
   "source": [
    "![](https://learning.oreilly.com/library/view/hands-on-machine-learning/9781492032632/assets/mls2_1810.png)"
   ]
  },
  {
   "cell_type": "markdown",
   "metadata": {},
   "source": [
    "scatch\n",
    "\n",
    "- Policy (a DNN for an Agent)\n",
    "    - Stochastic Policy\n",
    "        - Bayesian Bandit (exploring/exploiting)\n",
    "    - Policy Space/Search\n"
   ]
  }
 ],
 "metadata": {
  "kernelspec": {
   "display_name": "Python 3",
   "language": "python",
   "name": "python3"
  },
  "language_info": {
   "codemirror_mode": {
    "name": "ipython",
    "version": 3
   },
   "file_extension": ".py",
   "mimetype": "text/x-python",
   "name": "python",
   "nbconvert_exporter": "python",
   "pygments_lexer": "ipython3",
   "version": "3.8.5"
  }
 },
 "nbformat": 4,
 "nbformat_minor": 4
}
